{
  "cells": [
    {
      "cell_type": "markdown",
      "metadata": {
        "id": "HvTziClaSnqi"
      },
      "source": [
        "# ECONOMETRIZANDO - Parte 2"
      ]
    },
    {
      "cell_type": "markdown",
      "metadata": {
        "id": "NvMAhn0FSnqk"
      },
      "source": [
        "## Sobre o Estudo"
      ]
    },
    {
      "cell_type": "markdown",
      "metadata": {
        "id": "K2QV1hY9Snqm"
      },
      "source": [
        "Nesse projeto, vamos usar como referência a hipótese e os dados do excelente artigo: *\"As Origens Coloniais do Desenvolvimento Comparativo: Uma Investigação Empírica\"* dos autores: Daron Acemoglu, Simon Johnson, James A. Robinson\n",
        "\n",
        "**Fonte:** The American Economic Review, Vol. 91, No. 5 (Dez., 2001), pp. 1369-1401 https://www.aeaweb.org/articles?id=10.1257/aer.91.5.1369\n",
        "\n",
        "--\n",
        "\n",
        "- **PROPÓSITOS:**<br>\n",
        "Aplicar o conceito de variáveis instrumentais de forma teórica usando um modelo de 2 etapas para analisar a hipótese dos autores: *o desempenho econômico observado pode ser atribuído às diferenças institucionais.*\n",
        "Além disso, analisa-se o quão importantes são as instituições e os direitos de propriedade para o desenvolvimento econômico.\n",
        "\n",
        "Os autores do artigo propõem 3 premissas:\n",
        "\n",
        "1. Os diferentes tipos de políticas de colonização criaram diferentes conjuntos de instituições. Em um extremo, os europeus estabeleceram “Estados extrativos”, instituições que não ofereceram muita proteção à propriedade privada, nem estabeleceram um sistema de pesos e contrapesos contra a expropriação do governo. No outro extremo, muitos europeus emigraram e se estabeleceram em várias colônias, criando “novas Europas”. Os colonizadores tentaram replicar as instituições europeias, com grande ênfase na propriedade privada e no controle do poder do governo.\n",
        "\n",
        "2. A viabilidade dos assentamentos influenciou a estratégia de colonização. Em lugares onde o ambiente insalubre não era favorável ao assentamento europeu, não era possível criar “novas Europas”, e era mais viável a formação do Estado extrativo. O Estado colonial e as instituições persistiram mesmo após a independência.\n",
        "\n",
        "3. Na hipótese de as taxas de mortalidade (potenciais) dos colonizadores terem sido o principal determinante dos assentamentos; os assentamentos foram um determinante importante das instituições iniciais (na prática, as instituições de 1900); e existe uma forte correlação entre as instituições iniciais e as instituições atuais.\n",
        "\n",
        "- **PONTOS IMPORTANTES:** <br>\n",
        "1. Como medimos as diferenças institucionais e os resultados econômicos?\n",
        "\n",
        "2. Os resultados econômicos de uma economia são aproximados pelo logaritmo do PIB per capita em 1995, ajustados pela paridade do poder de compra, PPC.\n",
        "\n",
        "3. As diferenças institucionais são aproximadas pelo índice de proteção contra a expropriação, que reporta um valor entre 0 e 10 para cada país e ano, onde 0 corresponde à menor proteção contra a expropriação. Foi utilizado o valor médio de cada país entre 1985 e 1995 (“risco de expropriação” médio 1985-95, este índice foi construído pelo Grupo de Serviços de Risco Político https://www.prsgroup.com/).\n",
        "\n",
        "4. A principal contribuição do artigo é o uso das taxas de mortalidade como fonte de variação exógena nas diferenças institucionais.\n",
        "\n",
        "5. Essa variação é necessária para determinar se são as instituições que levam a um maior crescimento econômico, e não o contrário."
      ]
    },
    {
      "cell_type": "markdown",
      "metadata": {
        "id": "uPdud0QdSnqn"
      },
      "source": [
        "## De forma mais didática"
      ]
    },
    {
      "cell_type": "markdown",
      "metadata": {
        "id": "fyHT-8XLSnqn"
      },
      "source": [
        "Imagine que estamos explorando como certas coisas que aconteceram no passado afetam o modo como os países são hoje em dia. Temos um artigo escrito por alguns competentes pesquisadores que estudaram sobre isso.\n",
        "\n",
        "Acemoglu e os demais propõem algumas ideias sobre como a forma como os países foram colonizados no passado influenciou suas instituições e, por consequência, seu desenvolvimento econômico atual.\n",
        "\n",
        "Eles sugerem que a maneira como os europeus colonizaram diferentes partes do mundo criou diferentes tipos de sistemas de governo e leis. Alguns lugares acabaram com governos que não protegiam muito bem a propriedade privada das pessoas, enquanto outros lugares tiveram sistemas mais parecidos com os da Europa, com maior proteção à propriedade.\n",
        "\n",
        "Eles também acham que a dificuldade de viver em certos lugares influenciou como esses lugares foram colonizados. Em alguns lugares onde era difícil para os europeus viverem, acabaram sendo criados governos que não protegiam tanto a propriedade das pessoas.\n",
        "\n",
        "Os pesquisadores têm uma hipótese. Eles pensam que a taxa de mortalidade dos colonizadores, ou seja, quantos deles morriam quando chegavam em um lugar novo, foi o principal fator que determinou como esses lugares foram colonizados e, consequentemente, como suas instituições foram formadas. Eles acreditam que as instituições criadas naquela época continuam a influenciar o desenvolvimento econômico desses lugares hoje em dia.\n",
        "\n",
        "Então, para testar essas ideias, alguns dados econômicos, como o Produto Interno Bruto (PIB) per capita em 1995, e também para um índice que mede o quão bem os governos protegem a propriedade privada das pessoas.\n",
        "\n",
        "A parte mais interessante é que eles usam a taxa de mortalidade dos colonizadores como uma espécie de \"atalho\" para entender como as instituições foram formadas. Eles pensam que olhando para essa taxa, podem entender melhor como as instituições afetaram o desenvolvimento econômico ao longo do tempo."
      ]
    },
    {
      "cell_type": "markdown",
      "metadata": {
        "id": "V9XQ1GMRSnqo"
      },
      "source": [
        "## Sobre os dados"
      ]
    },
    {
      "cell_type": "markdown",
      "metadata": {
        "id": "f0RuvttGSnqo"
      },
      "source": [
        "Com a ajuda da instrução read_stata, vamos ler os dados. Nosso DataFrame contém as seguintes informações:\n",
        "- shortnam - Abreviação do Nome do país.\n",
        "- euro1900 - Restrições ao Executivo em 1900\n",
        "- excolony: variável dummy 1- excolonia -0 não excolonia\n",
        "- logpgp95 - logaritmo do PIB per capita em 1995\n",
        "- avexpr - logaritmo da taxa de mortalidade dos colonizadores para uma amostra de 75 países,\n",
        "- cons1 - Restrição ao executivo no primeiro ano de independência\n",
        "- cons90 - Restrição ao executivo em 1900\n",
        "- democ00a - Índice de democracia 1900\n",
        "- cons00a - Restrição ao executivo em 2000\n",
        "- extmort4 - taxa de mortalidade externa em 4 anos (imagino que só possa ser isso, pois não encontrei a descrição)\n",
        "- logem4 - Logaritmo do PIB por trabalhador, 1988\n",
        "- loghjypl - IDH\n",
        "- baseco\n",
        "\n",
        "A base de dados pode ser baixada [AQUI]"
      ]
    },
    {
      "cell_type": "markdown",
      "metadata": {
        "id": "uQPqbUKdSnqo"
      },
      "source": [
        "### Bibliotecas"
      ]
    },
    {
      "cell_type": "code",
      "execution_count": 11,
      "metadata": {
        "colab": {
          "base_uri": "https://localhost:8080/"
        },
        "id": "b7m31JbeWEEK",
        "outputId": "90c89654-fb7a-4dff-a2b7-0dff439281ed"
      },
      "outputs": [],
      "source": [
        "# !pip install linearmodels"
      ]
    },
    {
      "cell_type": "code",
      "execution_count": 12,
      "metadata": {
        "id": "WdmKVVrnSnqo"
      },
      "outputs": [],
      "source": [
        "import numpy as np\n",
        "import pandas as pd\n",
        "import seaborn as sns\n",
        "import matplotlib.pyplot as plt\n",
        "import statsmodels.api as sm\n",
        "import plotly.graph_objs as go\n",
        "from statsmodels.iolib.summary2 import summary_col\n",
        "from linearmodels.iv import IVLIML, IV2SLS, IVLIML, IVGMM, IVGMMCUE\n",
        "import warnings\n",
        "warnings.filterwarnings('ignore')"
      ]
    },
    {
      "cell_type": "markdown",
      "metadata": {
        "id": "tDjkzv5lSnqp"
      },
      "source": [
        "### Dados"
      ]
    },
    {
      "cell_type": "code",
      "execution_count": 13,
      "metadata": {
        "colab": {
          "base_uri": "https://localhost:8080/",
          "height": 424
        },
        "id": "WKL78PGNSnqp",
        "outputId": "b84c4dc5-39ea-4f53-e1cd-42c1545abf0e"
      },
      "outputs": [
        {
          "data": {
            "text/html": [
              "<div>\n",
              "<style scoped>\n",
              "    .dataframe tbody tr th:only-of-type {\n",
              "        vertical-align: middle;\n",
              "    }\n",
              "\n",
              "    .dataframe tbody tr th {\n",
              "        vertical-align: top;\n",
              "    }\n",
              "\n",
              "    .dataframe thead th {\n",
              "        text-align: right;\n",
              "    }\n",
              "</style>\n",
              "<table border=\"1\" class=\"dataframe\">\n",
              "  <thead>\n",
              "    <tr style=\"text-align: right;\">\n",
              "      <th></th>\n",
              "      <th>shortnam</th>\n",
              "      <th>euro1900</th>\n",
              "      <th>excolony</th>\n",
              "      <th>avexpr</th>\n",
              "      <th>logpgp95</th>\n",
              "      <th>cons1</th>\n",
              "      <th>cons90</th>\n",
              "      <th>democ00a</th>\n",
              "      <th>cons00a</th>\n",
              "      <th>extmort4</th>\n",
              "      <th>logem4</th>\n",
              "      <th>loghjypl</th>\n",
              "      <th>baseco</th>\n",
              "    </tr>\n",
              "  </thead>\n",
              "  <tbody>\n",
              "    <tr>\n",
              "      <th>0</th>\n",
              "      <td>AFG</td>\n",
              "      <td>0.000000</td>\n",
              "      <td>1.0</td>\n",
              "      <td>NaN</td>\n",
              "      <td>NaN</td>\n",
              "      <td>1.0</td>\n",
              "      <td>2.0</td>\n",
              "      <td>1.0</td>\n",
              "      <td>1.0</td>\n",
              "      <td>93.699997</td>\n",
              "      <td>4.540098</td>\n",
              "      <td>NaN</td>\n",
              "      <td>NaN</td>\n",
              "    </tr>\n",
              "    <tr>\n",
              "      <th>1</th>\n",
              "      <td>AGO</td>\n",
              "      <td>8.000000</td>\n",
              "      <td>1.0</td>\n",
              "      <td>5.363636</td>\n",
              "      <td>7.770645</td>\n",
              "      <td>3.0</td>\n",
              "      <td>3.0</td>\n",
              "      <td>0.0</td>\n",
              "      <td>1.0</td>\n",
              "      <td>280.000000</td>\n",
              "      <td>5.634789</td>\n",
              "      <td>-3.411248</td>\n",
              "      <td>1.0</td>\n",
              "    </tr>\n",
              "    <tr>\n",
              "      <th>2</th>\n",
              "      <td>ARE</td>\n",
              "      <td>0.000000</td>\n",
              "      <td>1.0</td>\n",
              "      <td>7.181818</td>\n",
              "      <td>9.804219</td>\n",
              "      <td>NaN</td>\n",
              "      <td>NaN</td>\n",
              "      <td>NaN</td>\n",
              "      <td>NaN</td>\n",
              "      <td>NaN</td>\n",
              "      <td>NaN</td>\n",
              "      <td>NaN</td>\n",
              "      <td>NaN</td>\n",
              "    </tr>\n",
              "    <tr>\n",
              "      <th>3</th>\n",
              "      <td>ARG</td>\n",
              "      <td>60.000004</td>\n",
              "      <td>1.0</td>\n",
              "      <td>6.386364</td>\n",
              "      <td>9.133459</td>\n",
              "      <td>1.0</td>\n",
              "      <td>6.0</td>\n",
              "      <td>3.0</td>\n",
              "      <td>3.0</td>\n",
              "      <td>68.900002</td>\n",
              "      <td>4.232656</td>\n",
              "      <td>-0.872274</td>\n",
              "      <td>1.0</td>\n",
              "    </tr>\n",
              "    <tr>\n",
              "      <th>4</th>\n",
              "      <td>ARM</td>\n",
              "      <td>0.000000</td>\n",
              "      <td>0.0</td>\n",
              "      <td>NaN</td>\n",
              "      <td>7.682482</td>\n",
              "      <td>NaN</td>\n",
              "      <td>NaN</td>\n",
              "      <td>NaN</td>\n",
              "      <td>NaN</td>\n",
              "      <td>NaN</td>\n",
              "      <td>NaN</td>\n",
              "      <td>NaN</td>\n",
              "      <td>NaN</td>\n",
              "    </tr>\n",
              "    <tr>\n",
              "      <th>...</th>\n",
              "      <td>...</td>\n",
              "      <td>...</td>\n",
              "      <td>...</td>\n",
              "      <td>...</td>\n",
              "      <td>...</td>\n",
              "      <td>...</td>\n",
              "      <td>...</td>\n",
              "      <td>...</td>\n",
              "      <td>...</td>\n",
              "      <td>...</td>\n",
              "      <td>...</td>\n",
              "      <td>...</td>\n",
              "      <td>...</td>\n",
              "    </tr>\n",
              "    <tr>\n",
              "      <th>158</th>\n",
              "      <td>YUG</td>\n",
              "      <td>100.000000</td>\n",
              "      <td>0.0</td>\n",
              "      <td>6.318182</td>\n",
              "      <td>NaN</td>\n",
              "      <td>NaN</td>\n",
              "      <td>NaN</td>\n",
              "      <td>NaN</td>\n",
              "      <td>NaN</td>\n",
              "      <td>NaN</td>\n",
              "      <td>NaN</td>\n",
              "      <td>-1.203973</td>\n",
              "      <td>NaN</td>\n",
              "    </tr>\n",
              "    <tr>\n",
              "      <th>159</th>\n",
              "      <td>ZAF</td>\n",
              "      <td>22.000000</td>\n",
              "      <td>1.0</td>\n",
              "      <td>6.863636</td>\n",
              "      <td>8.885994</td>\n",
              "      <td>3.0</td>\n",
              "      <td>7.0</td>\n",
              "      <td>3.0</td>\n",
              "      <td>3.0</td>\n",
              "      <td>15.500000</td>\n",
              "      <td>2.740840</td>\n",
              "      <td>-1.386294</td>\n",
              "      <td>1.0</td>\n",
              "    </tr>\n",
              "    <tr>\n",
              "      <th>160</th>\n",
              "      <td>ZAR</td>\n",
              "      <td>8.000000</td>\n",
              "      <td>1.0</td>\n",
              "      <td>3.500000</td>\n",
              "      <td>6.866933</td>\n",
              "      <td>1.0</td>\n",
              "      <td>1.0</td>\n",
              "      <td>0.0</td>\n",
              "      <td>1.0</td>\n",
              "      <td>240.000000</td>\n",
              "      <td>5.480639</td>\n",
              "      <td>-3.411248</td>\n",
              "      <td>1.0</td>\n",
              "    </tr>\n",
              "    <tr>\n",
              "      <th>161</th>\n",
              "      <td>ZMB</td>\n",
              "      <td>3.000000</td>\n",
              "      <td>1.0</td>\n",
              "      <td>6.636364</td>\n",
              "      <td>6.813445</td>\n",
              "      <td>3.0</td>\n",
              "      <td>1.0</td>\n",
              "      <td>0.0</td>\n",
              "      <td>1.0</td>\n",
              "      <td>NaN</td>\n",
              "      <td>NaN</td>\n",
              "      <td>-2.975930</td>\n",
              "      <td>NaN</td>\n",
              "    </tr>\n",
              "    <tr>\n",
              "      <th>162</th>\n",
              "      <td>ZWE</td>\n",
              "      <td>7.200000</td>\n",
              "      <td>1.0</td>\n",
              "      <td>6.000000</td>\n",
              "      <td>7.696213</td>\n",
              "      <td>7.0</td>\n",
              "      <td>3.0</td>\n",
              "      <td>0.0</td>\n",
              "      <td>1.0</td>\n",
              "      <td>NaN</td>\n",
              "      <td>NaN</td>\n",
              "      <td>-2.733368</td>\n",
              "      <td>NaN</td>\n",
              "    </tr>\n",
              "  </tbody>\n",
              "</table>\n",
              "<p>163 rows × 13 columns</p>\n",
              "</div>"
            ],
            "text/plain": [
              "    shortnam    euro1900  excolony    avexpr  logpgp95  cons1  cons90  \\\n",
              "0        AFG    0.000000       1.0       NaN       NaN    1.0     2.0   \n",
              "1        AGO    8.000000       1.0  5.363636  7.770645    3.0     3.0   \n",
              "2        ARE    0.000000       1.0  7.181818  9.804219    NaN     NaN   \n",
              "3        ARG   60.000004       1.0  6.386364  9.133459    1.0     6.0   \n",
              "4        ARM    0.000000       0.0       NaN  7.682482    NaN     NaN   \n",
              "..       ...         ...       ...       ...       ...    ...     ...   \n",
              "158      YUG  100.000000       0.0  6.318182       NaN    NaN     NaN   \n",
              "159      ZAF   22.000000       1.0  6.863636  8.885994    3.0     7.0   \n",
              "160      ZAR    8.000000       1.0  3.500000  6.866933    1.0     1.0   \n",
              "161      ZMB    3.000000       1.0  6.636364  6.813445    3.0     1.0   \n",
              "162      ZWE    7.200000       1.0  6.000000  7.696213    7.0     3.0   \n",
              "\n",
              "     democ00a  cons00a    extmort4    logem4  loghjypl  baseco  \n",
              "0         1.0      1.0   93.699997  4.540098       NaN     NaN  \n",
              "1         0.0      1.0  280.000000  5.634789 -3.411248     1.0  \n",
              "2         NaN      NaN         NaN       NaN       NaN     NaN  \n",
              "3         3.0      3.0   68.900002  4.232656 -0.872274     1.0  \n",
              "4         NaN      NaN         NaN       NaN       NaN     NaN  \n",
              "..        ...      ...         ...       ...       ...     ...  \n",
              "158       NaN      NaN         NaN       NaN -1.203973     NaN  \n",
              "159       3.0      3.0   15.500000  2.740840 -1.386294     1.0  \n",
              "160       0.0      1.0  240.000000  5.480639 -3.411248     1.0  \n",
              "161       0.0      1.0         NaN       NaN -2.975930     NaN  \n",
              "162       0.0      1.0         NaN       NaN -2.733368     NaN  \n",
              "\n",
              "[163 rows x 13 columns]"
            ]
          },
          "execution_count": 13,
          "metadata": {},
          "output_type": "execute_result"
        }
      ],
      "source": [
        "df = pd.read_stata('maketable1.dta')\n",
        "df"
      ]
    },
    {
      "cell_type": "markdown",
      "metadata": {
        "id": "aoffVLHZSnqq"
      },
      "source": [
        "Nota-se que os nomes das colunas no conjunto de dados não são muito explicativos, por isso, as renomearei"
      ]
    },
    {
      "cell_type": "code",
      "execution_count": 14,
      "metadata": {
        "colab": {
          "base_uri": "https://localhost:8080/"
        },
        "id": "Zh6XY_DFSnqq",
        "outputId": "4e871781-e52c-474a-816f-fb289669d7d1"
      },
      "outputs": [
        {
          "data": {
            "text/plain": [
              "Index(['shortnam', 'euro1900', 'excolony', 'avexpr', 'logpgp95', 'cons1',\n",
              "       'cons90', 'democ00a', 'cons00a', 'extmort4', 'logem4', 'loghjypl',\n",
              "       'baseco'],\n",
              "      dtype='object')"
            ]
          },
          "execution_count": 14,
          "metadata": {},
          "output_type": "execute_result"
        }
      ],
      "source": [
        "df.columns"
      ]
    },
    {
      "cell_type": "markdown",
      "metadata": {
        "id": "p_ztkOrQSnqq"
      },
      "source": [
        "df = df.rename(columns= {\n",
        "    'shortnam': 'pais',\n",
        "    'excolony': 'colonia', # 1 para colônia e 0 para não colônia\n",
        "    'avexpr': 'log_txmortal',\n",
        "    'logpgp95': 'log_ppc95',\n",
        "    'cons1': 'res_exec_1ano',\n",
        "    'cons90': 'res_exec_1900',\n",
        "    'democ00a': 'ind_democ_1900',\n",
        "    'cons00a': 'res_exec_2k',\n",
        "    'extmort4': 'mort_ext_4y',\n",
        "    'logem4': 'log_pb_1988',\n",
        "    'loghjypl': 'idh'\n",
        "})\n",
        "df"
      ]
    },
    {
      "cell_type": "code",
      "execution_count": 15,
      "metadata": {
        "colab": {
          "base_uri": "https://localhost:8080/"
        },
        "id": "Z367Cty5Snqq",
        "outputId": "ac5878bc-5431-4aa8-911c-9e74b2618dd3"
      },
      "outputs": [
        {
          "name": "stdout",
          "output_type": "stream",
          "text": [
            "<class 'pandas.core.frame.DataFrame'>\n",
            "RangeIndex: 163 entries, 0 to 162\n",
            "Data columns (total 13 columns):\n",
            " #   Column    Non-Null Count  Dtype  \n",
            "---  ------    --------------  -----  \n",
            " 0   shortnam  163 non-null    object \n",
            " 1   euro1900  154 non-null    float32\n",
            " 2   excolony  162 non-null    float32\n",
            " 3   avexpr    121 non-null    float32\n",
            " 4   logpgp95  148 non-null    float32\n",
            " 5   cons1     88 non-null     float32\n",
            " 6   cons90    88 non-null     float32\n",
            " 7   democ00a  87 non-null     float32\n",
            " 8   cons00a   91 non-null     float32\n",
            " 9   extmort4  87 non-null     float32\n",
            " 10  logem4    87 non-null     float32\n",
            " 11  loghjypl  123 non-null    float32\n",
            " 12  baseco    64 non-null     float32\n",
            "dtypes: float32(12), object(1)\n",
            "memory usage: 9.0+ KB\n"
          ]
        }
      ],
      "source": [
        "# Tipos dos dados\n",
        "df.info()"
      ]
    },
    {
      "cell_type": "code",
      "execution_count": 16,
      "metadata": {
        "colab": {
          "base_uri": "https://localhost:8080/"
        },
        "id": "lOppruERSnqq",
        "outputId": "234f4abe-dbdf-4c8e-a9fb-104827435484"
      },
      "outputs": [
        {
          "data": {
            "text/plain": [
              "shortnam     0\n",
              "euro1900     9\n",
              "excolony     1\n",
              "avexpr      42\n",
              "logpgp95    15\n",
              "cons1       75\n",
              "cons90      75\n",
              "democ00a    76\n",
              "cons00a     72\n",
              "extmort4    76\n",
              "logem4      76\n",
              "loghjypl    40\n",
              "baseco      99\n",
              "dtype: int64"
            ]
          },
          "execution_count": 16,
          "metadata": {},
          "output_type": "execute_result"
        }
      ],
      "source": [
        "# Valores nulos\n",
        "df.isnull().sum()"
      ]
    },
    {
      "cell_type": "markdown",
      "metadata": {},
      "source": [
        "Nota-se uma grande quantidade de dadis nulos, deixaremos para tratá-los mais à frente."
      ]
    },
    {
      "cell_type": "code",
      "execution_count": 17,
      "metadata": {
        "colab": {
          "base_uri": "https://localhost:8080/"
        },
        "id": "HLhJ9sThSnqq",
        "outputId": "407802e4-8130-4c28-e684-44876a3233d6"
      },
      "outputs": [
        {
          "data": {
            "text/plain": [
              "0"
            ]
          },
          "execution_count": 17,
          "metadata": {},
          "output_type": "execute_result"
        }
      ],
      "source": [
        "# Valores duplicados\n",
        "df.duplicated().sum()"
      ]
    },
    {
      "cell_type": "code",
      "execution_count": 18,
      "metadata": {
        "colab": {
          "base_uri": "https://localhost:8080/",
          "height": 300
        },
        "id": "IkrtrQYFSnqr",
        "outputId": "9b7ad6fe-8a12-436d-c52b-3d16579a19d0"
      },
      "outputs": [
        {
          "data": {
            "text/html": [
              "<div>\n",
              "<style scoped>\n",
              "    .dataframe tbody tr th:only-of-type {\n",
              "        vertical-align: middle;\n",
              "    }\n",
              "\n",
              "    .dataframe tbody tr th {\n",
              "        vertical-align: top;\n",
              "    }\n",
              "\n",
              "    .dataframe thead th {\n",
              "        text-align: right;\n",
              "    }\n",
              "</style>\n",
              "<table border=\"1\" class=\"dataframe\">\n",
              "  <thead>\n",
              "    <tr style=\"text-align: right;\">\n",
              "      <th></th>\n",
              "      <th>euro1900</th>\n",
              "      <th>excolony</th>\n",
              "      <th>avexpr</th>\n",
              "      <th>logpgp95</th>\n",
              "      <th>cons1</th>\n",
              "      <th>cons90</th>\n",
              "      <th>democ00a</th>\n",
              "      <th>cons00a</th>\n",
              "      <th>extmort4</th>\n",
              "      <th>logem4</th>\n",
              "      <th>loghjypl</th>\n",
              "      <th>baseco</th>\n",
              "    </tr>\n",
              "  </thead>\n",
              "  <tbody>\n",
              "    <tr>\n",
              "      <th>count</th>\n",
              "      <td>154.000000</td>\n",
              "      <td>162.000000</td>\n",
              "      <td>121.000000</td>\n",
              "      <td>148.000000</td>\n",
              "      <td>88.000000</td>\n",
              "      <td>88.000000</td>\n",
              "      <td>87.000000</td>\n",
              "      <td>91.000000</td>\n",
              "      <td>87.000000</td>\n",
              "      <td>87.000000</td>\n",
              "      <td>123.000000</td>\n",
              "      <td>64.0</td>\n",
              "    </tr>\n",
              "    <tr>\n",
              "      <th>mean</th>\n",
              "      <td>30.466232</td>\n",
              "      <td>0.666667</td>\n",
              "      <td>7.066491</td>\n",
              "      <td>8.302509</td>\n",
              "      <td>3.590909</td>\n",
              "      <td>3.636364</td>\n",
              "      <td>1.149425</td>\n",
              "      <td>1.857143</td>\n",
              "      <td>220.926437</td>\n",
              "      <td>4.595984</td>\n",
              "      <td>-1.731106</td>\n",
              "      <td>1.0</td>\n",
              "    </tr>\n",
              "    <tr>\n",
              "      <th>std</th>\n",
              "      <td>42.389839</td>\n",
              "      <td>0.472866</td>\n",
              "      <td>1.804287</td>\n",
              "      <td>1.105342</td>\n",
              "      <td>2.414688</td>\n",
              "      <td>2.339967</td>\n",
              "      <td>2.576858</td>\n",
              "      <td>1.823131</td>\n",
              "      <td>411.498260</td>\n",
              "      <td>1.303333</td>\n",
              "      <td>1.083726</td>\n",
              "      <td>0.0</td>\n",
              "    </tr>\n",
              "    <tr>\n",
              "      <th>min</th>\n",
              "      <td>0.000000</td>\n",
              "      <td>0.000000</td>\n",
              "      <td>1.636364</td>\n",
              "      <td>6.109248</td>\n",
              "      <td>1.000000</td>\n",
              "      <td>1.000000</td>\n",
              "      <td>0.000000</td>\n",
              "      <td>1.000000</td>\n",
              "      <td>2.550000</td>\n",
              "      <td>0.936093</td>\n",
              "      <td>-3.540459</td>\n",
              "      <td>1.0</td>\n",
              "    </tr>\n",
              "    <tr>\n",
              "      <th>25%</th>\n",
              "      <td>0.000000</td>\n",
              "      <td>0.000000</td>\n",
              "      <td>5.886364</td>\n",
              "      <td>7.376192</td>\n",
              "      <td>1.000000</td>\n",
              "      <td>1.750000</td>\n",
              "      <td>0.000000</td>\n",
              "      <td>1.000000</td>\n",
              "      <td>68.350006</td>\n",
              "      <td>4.224609</td>\n",
              "      <td>-2.741120</td>\n",
              "      <td>1.0</td>\n",
              "    </tr>\n",
              "    <tr>\n",
              "      <th>50%</th>\n",
              "      <td>1.950000</td>\n",
              "      <td>1.000000</td>\n",
              "      <td>7.045455</td>\n",
              "      <td>8.265764</td>\n",
              "      <td>3.000000</td>\n",
              "      <td>3.000000</td>\n",
              "      <td>0.000000</td>\n",
              "      <td>1.000000</td>\n",
              "      <td>85.000000</td>\n",
              "      <td>4.442651</td>\n",
              "      <td>-1.560648</td>\n",
              "      <td>1.0</td>\n",
              "    </tr>\n",
              "    <tr>\n",
              "      <th>75%</th>\n",
              "      <td>91.625000</td>\n",
              "      <td>1.000000</td>\n",
              "      <td>8.272727</td>\n",
              "      <td>9.216228</td>\n",
              "      <td>7.000000</td>\n",
              "      <td>7.000000</td>\n",
              "      <td>1.000000</td>\n",
              "      <td>1.000000</td>\n",
              "      <td>253.259995</td>\n",
              "      <td>5.610119</td>\n",
              "      <td>-0.831277</td>\n",
              "      <td>1.0</td>\n",
              "    </tr>\n",
              "    <tr>\n",
              "      <th>max</th>\n",
              "      <td>100.000000</td>\n",
              "      <td>1.000000</td>\n",
              "      <td>10.000000</td>\n",
              "      <td>10.288750</td>\n",
              "      <td>7.000000</td>\n",
              "      <td>7.000000</td>\n",
              "      <td>10.000000</td>\n",
              "      <td>7.000000</td>\n",
              "      <td>2940.000000</td>\n",
              "      <td>7.986165</td>\n",
              "      <td>0.000000</td>\n",
              "      <td>1.0</td>\n",
              "    </tr>\n",
              "  </tbody>\n",
              "</table>\n",
              "</div>"
            ],
            "text/plain": [
              "         euro1900    excolony      avexpr    logpgp95      cons1     cons90  \\\n",
              "count  154.000000  162.000000  121.000000  148.000000  88.000000  88.000000   \n",
              "mean    30.466232    0.666667    7.066491    8.302509   3.590909   3.636364   \n",
              "std     42.389839    0.472866    1.804287    1.105342   2.414688   2.339967   \n",
              "min      0.000000    0.000000    1.636364    6.109248   1.000000   1.000000   \n",
              "25%      0.000000    0.000000    5.886364    7.376192   1.000000   1.750000   \n",
              "50%      1.950000    1.000000    7.045455    8.265764   3.000000   3.000000   \n",
              "75%     91.625000    1.000000    8.272727    9.216228   7.000000   7.000000   \n",
              "max    100.000000    1.000000   10.000000   10.288750   7.000000   7.000000   \n",
              "\n",
              "        democ00a    cons00a     extmort4     logem4    loghjypl  baseco  \n",
              "count  87.000000  91.000000    87.000000  87.000000  123.000000    64.0  \n",
              "mean    1.149425   1.857143   220.926437   4.595984   -1.731106     1.0  \n",
              "std     2.576858   1.823131   411.498260   1.303333    1.083726     0.0  \n",
              "min     0.000000   1.000000     2.550000   0.936093   -3.540459     1.0  \n",
              "25%     0.000000   1.000000    68.350006   4.224609   -2.741120     1.0  \n",
              "50%     0.000000   1.000000    85.000000   4.442651   -1.560648     1.0  \n",
              "75%     1.000000   1.000000   253.259995   5.610119   -0.831277     1.0  \n",
              "max    10.000000   7.000000  2940.000000   7.986165    0.000000     1.0  "
            ]
          },
          "execution_count": 18,
          "metadata": {},
          "output_type": "execute_result"
        }
      ],
      "source": [
        "# Estatistica descritiva\n",
        "df.describe()"
      ]
    },
    {
      "cell_type": "markdown",
      "metadata": {},
      "source": [
        "### Relação: Proteção Média contra o Risco de Expropriação x Logaritmo do PIB per capita"
      ]
    },
    {
      "cell_type": "markdown",
      "metadata": {},
      "source": [
        "Aqui inicialmente desejamos entender a relação entre essas duas variáveis e estimar uma linha de melhor ajuste que represente essa relação, para isso usamos uma análise de regressão linear simples entre as duas variáveis. Isso ajuda a entender a direção e a força da relação entre as variáveis e fornece uma base para previsões ou inferências adicionais.\n",
        "\n",
        "Calculamos as variâncias e a covariância das variáveis, estimando os coeficientes da regressão linear (interceptação e inclinação da linha), e depois realizamos um plot dos dados originais juntamente com a linha de regressão estimada para visualização. "
      ]
    },
    {
      "cell_type": "code",
      "execution_count": 19,
      "metadata": {},
      "outputs": [
        {
          "name": "stdout",
          "output_type": "stream",
          "text": [
            "                            OLS Regression Results                            \n",
            "==============================================================================\n",
            "Dep. Variable:                 avexpr   R-squared:                       0.611\n",
            "Model:                            OLS   Adj. R-squared:                  0.608\n",
            "Method:                 Least Squares   F-statistic:                     171.4\n",
            "Date:                Wed, 29 May 2024   Prob (F-statistic):           4.16e-24\n",
            "Time:                        19:54:01   Log-Likelihood:                -162.48\n",
            "No. Observations:                 111   AIC:                             329.0\n",
            "Df Residuals:                     109   BIC:                             334.4\n",
            "Df Model:                           1                                         \n",
            "Covariance Type:            nonrobust                                         \n",
            "==============================================================================\n",
            "                 coef    std err          t      P>|t|      [0.025      0.975]\n",
            "------------------------------------------------------------------------------\n",
            "const         -2.5160      0.749     -3.358      0.001      -4.001      -1.031\n",
            "logpgp95       1.1494      0.088     13.093      0.000       0.975       1.323\n",
            "==============================================================================\n",
            "Omnibus:                        2.143   Durbin-Watson:                   1.716\n",
            "Prob(Omnibus):                  0.343   Jarque-Bera (JB):                1.627\n",
            "Skew:                          -0.106   Prob(JB):                        0.443\n",
            "Kurtosis:                       2.446   Cond. No.                         64.7\n",
            "==============================================================================\n",
            "\n",
            "Notes:\n",
            "[1] Standard Errors assume that the covariance matrix of the errors is correctly specified.\n"
          ]
        }
      ],
      "source": [
        "# Removemos linhas com valores ausentes nas duas variáveis de interesse\n",
        "data_clean = df.dropna(subset=['logpgp95', 'avexpr'])\n",
        "\n",
        "# Definimos as variáveis independentes (X) e dependentes (Y)\n",
        "X = data_clean['logpgp95']\n",
        "Y = data_clean['avexpr']\n",
        "\n",
        "# Adicionamos uma constante a variável independente (X) para estimar o termo de interceptação\n",
        "X = sm.add_constant(X)\n",
        "\n",
        "# Estimamos a regressão linear\n",
        "model = sm.OLS(Y, X, missing='drop')\n",
        "results = model.fit()\n",
        "\n",
        "# Imprimindo um sumário do modelo\n",
        "print(results.summary())"
      ]
    },
    {
      "cell_type": "markdown",
      "metadata": {},
      "source": [
        "Concluímos que: \n",
        "- R-quadrado (R²): 0.611, indicando que aproximadamente 61.1% da variação na qualidade das instituições ('avexpr') pode ser explicada pelo PIB per capita logarítmico ('logpgp95')\n",
        "\n",
        "- Coeficiente de 'logpgp95': 1.1494, sugerindo que um aumento de 1 unidade no logaritmo do PIB per capita está associado a um aumento de aproximadamente 1.15 na qualidade das instituições\n",
        "\n",
        "- Intercepto: -2.5160, indicando que, teoricamente, um país com um PIB per capita logarítmico de zero teria uma qualidade institucional negativa (o que pode não ser realista, mas é um resultado da modelagem linear)\n",
        "\n",
        "- Significância Estatística: o valor p para 'logpgp95' é extremamente baixo (< 0.0001), indicando que o coeficiente é muito significativo\n",
        "\n",
        "- Distribuição dos Resíduos: no teste de Omnibus e Jarque-Bera vimos que os resíduos da regressão são normalmente distribuídos\n",
        "\n",
        "Ou seja, os dados indicam uma relação positiva e significativa entre o PIB per capita logarítmico e a qualidade das instituições, sugerindo que países com maior PIB per capita tendem a ter instituições de melhor qualidade. \n",
        "\n",
        "A variabilidade explicada pelo modelo é moderada (61.1%), o que indica que outros fatores além do PIB per capita também influenciam a qualidade das instituições. A análise destaca a importância do desenvolvimento econômico para a qualidade institucional, mas também sugere a necessidade de considerar outras variáveis para uma compreensão mais completa."
      ]
    },
    {
      "cell_type": "code",
      "execution_count": 20,
      "metadata": {},
      "outputs": [
        {
          "ename": "NameError",
          "evalue": "name 'px' is not defined",
          "output_type": "error",
          "traceback": [
            "\u001b[1;31m---------------------------------------------------------------------------\u001b[0m",
            "\u001b[1;31mNameError\u001b[0m                                 Traceback (most recent call last)",
            "Cell \u001b[1;32mIn[20], line 8\u001b[0m\n\u001b[0;32m      5\u001b[0m regression_line \u001b[38;5;241m=\u001b[39m intercept \u001b[38;5;241m+\u001b[39m slope \u001b[38;5;241m*\u001b[39m data_clean[\u001b[38;5;124m'\u001b[39m\u001b[38;5;124mlogpgp95\u001b[39m\u001b[38;5;124m'\u001b[39m]\n\u001b[0;32m      7\u001b[0m \u001b[38;5;66;03m# Crie o scatter plot com Plotly\u001b[39;00m\n\u001b[1;32m----> 8\u001b[0m fig \u001b[38;5;241m=\u001b[39m px\u001b[38;5;241m.\u001b[39mscatter(data_clean, x\u001b[38;5;241m=\u001b[39m\u001b[38;5;124m'\u001b[39m\u001b[38;5;124mlogpgp95\u001b[39m\u001b[38;5;124m'\u001b[39m, y\u001b[38;5;241m=\u001b[39m\u001b[38;5;124m'\u001b[39m\u001b[38;5;124mavexpr\u001b[39m\u001b[38;5;124m'\u001b[39m, opacity\u001b[38;5;241m=\u001b[39m\u001b[38;5;241m0.5\u001b[39m, title\u001b[38;5;241m=\u001b[39m\u001b[38;5;124m'\u001b[39m\u001b[38;5;124mRegressão Linear entre logpgp95 e avexpr\u001b[39m\u001b[38;5;124m'\u001b[39m)\n\u001b[0;32m      9\u001b[0m fig\u001b[38;5;241m.\u001b[39madd_trace(go\u001b[38;5;241m.\u001b[39mScatter(x\u001b[38;5;241m=\u001b[39mdata_clean[\u001b[38;5;124m'\u001b[39m\u001b[38;5;124mlogpgp95\u001b[39m\u001b[38;5;124m'\u001b[39m], y\u001b[38;5;241m=\u001b[39mregression_line, mode\u001b[38;5;241m=\u001b[39m\u001b[38;5;124m'\u001b[39m\u001b[38;5;124mlines\u001b[39m\u001b[38;5;124m'\u001b[39m, name\u001b[38;5;241m=\u001b[39m\u001b[38;5;124m'\u001b[39m\u001b[38;5;124mLinha de Regressão\u001b[39m\u001b[38;5;124m'\u001b[39m, line\u001b[38;5;241m=\u001b[39m\u001b[38;5;28mdict\u001b[39m(color\u001b[38;5;241m=\u001b[39m\u001b[38;5;124m'\u001b[39m\u001b[38;5;124mred\u001b[39m\u001b[38;5;124m'\u001b[39m)))\n\u001b[0;32m     11\u001b[0m \u001b[38;5;66;03m# Adicione anotação do autor\u001b[39;00m\n",
            "\u001b[1;31mNameError\u001b[0m: name 'px' is not defined"
          ]
        }
      ],
      "source": [
        "# Obtenha os coeficientes estimados da regressão\n",
        "intercept, slope = results.params\n",
        "\n",
        "# Crie os pontos da linha de regressão\n",
        "regression_line = intercept + slope * data_clean['logpgp95']\n",
        "\n",
        "# Crie o scatter plot com Plotly\n",
        "fig = px.scatter(data_clean, x='logpgp95', y='avexpr', opacity=0.5, title='Regressão Linear entre logpgp95 e avexpr')\n",
        "fig.add_trace(go.Scatter(x=data_clean['logpgp95'], y=regression_line, mode='lines', name='Linha de Regressão', line=dict(color='red')))\n",
        "\n",
        "# Adicione anotação do autor\n",
        "fig.add_annotation(\n",
        "    text='Autor: Jonatas A. Liberato',\n",
        "    xref='paper', yref='paper',\n",
        "    x=1, y=-0.2,\n",
        "    showarrow=False,\n",
        "    font=dict(size=12)\n",
        ")\n",
        "\n",
        "# Atualize os rótulos dos eixos e defina o tamanho do gráfico\n",
        "fig.update_layout(\n",
        "    xaxis_title='logpgp95',\n",
        "    yaxis_title='avexpr',\n",
        "    width=700,  # Definindo a largura do gráfico\n",
        "    height=500  # Opcional: definindo a altura do gráfico\n",
        ")\n",
        "\n",
        "# Mostre o gráfico\n",
        "fig.show()\n"
      ]
    },
    {
      "cell_type": "markdown",
      "metadata": {
        "id": "BlUSdqyySnqr"
      },
      "source": [
        "### Correlação entre as variáveis"
      ]
    },
    {
      "cell_type": "markdown",
      "metadata": {},
      "source": [
        "Vamos dar uma olhada nas relações entre as variáveis"
      ]
    },
    {
      "cell_type": "code",
      "execution_count": null,
      "metadata": {
        "colab": {
          "base_uri": "https://localhost:8080/",
          "height": 443
        },
        "id": "5swGr6WESnqr",
        "outputId": "d58e5c6c-9939-480b-911e-4be8c3be3cd8"
      },
      "outputs": [
        {
          "name": "stdout",
          "output_type": "stream",
          "text": [
            "Matriz de Correlação\n"
          ]
        },
        {
          "data": {
            "text/html": [
              "<div>\n",
              "<style scoped>\n",
              "    .dataframe tbody tr th:only-of-type {\n",
              "        vertical-align: middle;\n",
              "    }\n",
              "\n",
              "    .dataframe tbody tr th {\n",
              "        vertical-align: top;\n",
              "    }\n",
              "\n",
              "    .dataframe thead th {\n",
              "        text-align: right;\n",
              "    }\n",
              "</style>\n",
              "<table border=\"1\" class=\"dataframe\">\n",
              "  <thead>\n",
              "    <tr style=\"text-align: right;\">\n",
              "      <th></th>\n",
              "      <th>euro1900</th>\n",
              "      <th>excolony</th>\n",
              "      <th>avexpr</th>\n",
              "      <th>logpgp95</th>\n",
              "      <th>cons1</th>\n",
              "      <th>cons90</th>\n",
              "      <th>democ00a</th>\n",
              "      <th>cons00a</th>\n",
              "      <th>extmort4</th>\n",
              "      <th>logem4</th>\n",
              "      <th>loghjypl</th>\n",
              "      <th>baseco</th>\n",
              "    </tr>\n",
              "  </thead>\n",
              "  <tbody>\n",
              "    <tr>\n",
              "      <th>euro1900</th>\n",
              "      <td>1.000000</td>\n",
              "      <td>-0.689273</td>\n",
              "      <td>0.651259</td>\n",
              "      <td>0.543301</td>\n",
              "      <td>0.105453</td>\n",
              "      <td>0.539373</td>\n",
              "      <td>0.760907</td>\n",
              "      <td>0.681130</td>\n",
              "      <td>-0.240488</td>\n",
              "      <td>-0.619421</td>\n",
              "      <td>0.667556</td>\n",
              "      <td>NaN</td>\n",
              "    </tr>\n",
              "    <tr>\n",
              "      <th>excolony</th>\n",
              "      <td>-0.689273</td>\n",
              "      <td>1.000000</td>\n",
              "      <td>-0.544850</td>\n",
              "      <td>-0.351238</td>\n",
              "      <td>-0.152230</td>\n",
              "      <td>0.121484</td>\n",
              "      <td>0.006289</td>\n",
              "      <td>-0.124190</td>\n",
              "      <td>0.052674</td>\n",
              "      <td>0.175785</td>\n",
              "      <td>-0.514670</td>\n",
              "      <td>NaN</td>\n",
              "    </tr>\n",
              "    <tr>\n",
              "      <th>avexpr</th>\n",
              "      <td>0.651259</td>\n",
              "      <td>-0.544850</td>\n",
              "      <td>1.000000</td>\n",
              "      <td>0.781871</td>\n",
              "      <td>0.164761</td>\n",
              "      <td>0.550720</td>\n",
              "      <td>0.464887</td>\n",
              "      <td>0.405621</td>\n",
              "      <td>-0.258020</td>\n",
              "      <td>-0.551757</td>\n",
              "      <td>0.744358</td>\n",
              "      <td>NaN</td>\n",
              "    </tr>\n",
              "    <tr>\n",
              "      <th>logpgp95</th>\n",
              "      <td>0.543301</td>\n",
              "      <td>-0.351238</td>\n",
              "      <td>0.781871</td>\n",
              "      <td>1.000000</td>\n",
              "      <td>0.202709</td>\n",
              "      <td>0.614515</td>\n",
              "      <td>0.507646</td>\n",
              "      <td>0.455448</td>\n",
              "      <td>-0.406272</td>\n",
              "      <td>-0.704763</td>\n",
              "      <td>0.921999</td>\n",
              "      <td>NaN</td>\n",
              "    </tr>\n",
              "    <tr>\n",
              "      <th>cons1</th>\n",
              "      <td>0.105453</td>\n",
              "      <td>-0.152230</td>\n",
              "      <td>0.164761</td>\n",
              "      <td>0.202709</td>\n",
              "      <td>1.000000</td>\n",
              "      <td>0.279989</td>\n",
              "      <td>0.067338</td>\n",
              "      <td>0.020381</td>\n",
              "      <td>0.043582</td>\n",
              "      <td>-0.230706</td>\n",
              "      <td>0.086061</td>\n",
              "      <td>NaN</td>\n",
              "    </tr>\n",
              "    <tr>\n",
              "      <th>cons90</th>\n",
              "      <td>0.539373</td>\n",
              "      <td>0.121484</td>\n",
              "      <td>0.550720</td>\n",
              "      <td>0.614515</td>\n",
              "      <td>0.279989</td>\n",
              "      <td>1.000000</td>\n",
              "      <td>0.448136</td>\n",
              "      <td>0.418775</td>\n",
              "      <td>-0.302129</td>\n",
              "      <td>-0.550856</td>\n",
              "      <td>0.613374</td>\n",
              "      <td>NaN</td>\n",
              "    </tr>\n",
              "    <tr>\n",
              "      <th>democ00a</th>\n",
              "      <td>0.760907</td>\n",
              "      <td>0.006289</td>\n",
              "      <td>0.464887</td>\n",
              "      <td>0.507646</td>\n",
              "      <td>0.067338</td>\n",
              "      <td>0.448136</td>\n",
              "      <td>1.000000</td>\n",
              "      <td>0.936181</td>\n",
              "      <td>-0.217778</td>\n",
              "      <td>-0.514465</td>\n",
              "      <td>0.571446</td>\n",
              "      <td>NaN</td>\n",
              "    </tr>\n",
              "    <tr>\n",
              "      <th>cons00a</th>\n",
              "      <td>0.681130</td>\n",
              "      <td>-0.124190</td>\n",
              "      <td>0.405621</td>\n",
              "      <td>0.455448</td>\n",
              "      <td>0.020381</td>\n",
              "      <td>0.418775</td>\n",
              "      <td>0.936181</td>\n",
              "      <td>1.000000</td>\n",
              "      <td>-0.208006</td>\n",
              "      <td>-0.461551</td>\n",
              "      <td>0.558489</td>\n",
              "      <td>NaN</td>\n",
              "    </tr>\n",
              "    <tr>\n",
              "      <th>extmort4</th>\n",
              "      <td>-0.240488</td>\n",
              "      <td>0.052674</td>\n",
              "      <td>-0.258020</td>\n",
              "      <td>-0.406272</td>\n",
              "      <td>0.043582</td>\n",
              "      <td>-0.302129</td>\n",
              "      <td>-0.217778</td>\n",
              "      <td>-0.208006</td>\n",
              "      <td>1.000000</td>\n",
              "      <td>0.674897</td>\n",
              "      <td>-0.433068</td>\n",
              "      <td>NaN</td>\n",
              "    </tr>\n",
              "    <tr>\n",
              "      <th>logem4</th>\n",
              "      <td>-0.619421</td>\n",
              "      <td>0.175785</td>\n",
              "      <td>-0.551757</td>\n",
              "      <td>-0.704763</td>\n",
              "      <td>-0.230706</td>\n",
              "      <td>-0.550856</td>\n",
              "      <td>-0.514465</td>\n",
              "      <td>-0.461551</td>\n",
              "      <td>0.674897</td>\n",
              "      <td>1.000000</td>\n",
              "      <td>-0.770399</td>\n",
              "      <td>NaN</td>\n",
              "    </tr>\n",
              "    <tr>\n",
              "      <th>loghjypl</th>\n",
              "      <td>0.667556</td>\n",
              "      <td>-0.514670</td>\n",
              "      <td>0.744358</td>\n",
              "      <td>0.921999</td>\n",
              "      <td>0.086061</td>\n",
              "      <td>0.613374</td>\n",
              "      <td>0.571446</td>\n",
              "      <td>0.558489</td>\n",
              "      <td>-0.433068</td>\n",
              "      <td>-0.770399</td>\n",
              "      <td>1.000000</td>\n",
              "      <td>NaN</td>\n",
              "    </tr>\n",
              "    <tr>\n",
              "      <th>baseco</th>\n",
              "      <td>NaN</td>\n",
              "      <td>NaN</td>\n",
              "      <td>NaN</td>\n",
              "      <td>NaN</td>\n",
              "      <td>NaN</td>\n",
              "      <td>NaN</td>\n",
              "      <td>NaN</td>\n",
              "      <td>NaN</td>\n",
              "      <td>NaN</td>\n",
              "      <td>NaN</td>\n",
              "      <td>NaN</td>\n",
              "      <td>NaN</td>\n",
              "    </tr>\n",
              "  </tbody>\n",
              "</table>\n",
              "</div>"
            ],
            "text/plain": [
              "          euro1900  excolony    avexpr  logpgp95     cons1    cons90  \\\n",
              "euro1900  1.000000 -0.689273  0.651259  0.543301  0.105453  0.539373   \n",
              "excolony -0.689273  1.000000 -0.544850 -0.351238 -0.152230  0.121484   \n",
              "avexpr    0.651259 -0.544850  1.000000  0.781871  0.164761  0.550720   \n",
              "logpgp95  0.543301 -0.351238  0.781871  1.000000  0.202709  0.614515   \n",
              "cons1     0.105453 -0.152230  0.164761  0.202709  1.000000  0.279989   \n",
              "cons90    0.539373  0.121484  0.550720  0.614515  0.279989  1.000000   \n",
              "democ00a  0.760907  0.006289  0.464887  0.507646  0.067338  0.448136   \n",
              "cons00a   0.681130 -0.124190  0.405621  0.455448  0.020381  0.418775   \n",
              "extmort4 -0.240488  0.052674 -0.258020 -0.406272  0.043582 -0.302129   \n",
              "logem4   -0.619421  0.175785 -0.551757 -0.704763 -0.230706 -0.550856   \n",
              "loghjypl  0.667556 -0.514670  0.744358  0.921999  0.086061  0.613374   \n",
              "baseco         NaN       NaN       NaN       NaN       NaN       NaN   \n",
              "\n",
              "          democ00a   cons00a  extmort4    logem4  loghjypl  baseco  \n",
              "euro1900  0.760907  0.681130 -0.240488 -0.619421  0.667556     NaN  \n",
              "excolony  0.006289 -0.124190  0.052674  0.175785 -0.514670     NaN  \n",
              "avexpr    0.464887  0.405621 -0.258020 -0.551757  0.744358     NaN  \n",
              "logpgp95  0.507646  0.455448 -0.406272 -0.704763  0.921999     NaN  \n",
              "cons1     0.067338  0.020381  0.043582 -0.230706  0.086061     NaN  \n",
              "cons90    0.448136  0.418775 -0.302129 -0.550856  0.613374     NaN  \n",
              "democ00a  1.000000  0.936181 -0.217778 -0.514465  0.571446     NaN  \n",
              "cons00a   0.936181  1.000000 -0.208006 -0.461551  0.558489     NaN  \n",
              "extmort4 -0.217778 -0.208006  1.000000  0.674897 -0.433068     NaN  \n",
              "logem4   -0.514465 -0.461551  0.674897  1.000000 -0.770399     NaN  \n",
              "loghjypl  0.571446  0.558489 -0.433068 -0.770399  1.000000     NaN  \n",
              "baseco         NaN       NaN       NaN       NaN       NaN     NaN  "
            ]
          },
          "execution_count": 120,
          "metadata": {},
          "output_type": "execute_result"
        }
      ],
      "source": [
        "# Separando varaveis numéricas de categóricas\n",
        "df_num = df.select_dtypes(include= 'number')\n",
        "\n",
        "# Matriz de correlação\n",
        "correlacao = df_num.corr()\n",
        "print('Matriz de Correlação')\n",
        "correlacao"
      ]
    },
    {
      "cell_type": "code",
      "execution_count": null,
      "metadata": {
        "colab": {
          "base_uri": "https://localhost:8080/",
          "height": 758
        },
        "id": "tpPu7v95Snqr",
        "outputId": "d63aca00-74ca-4287-ce00-1716369d14bc"
      },
      "outputs": [
        {
          "data": {
            "image/png": "[encoded data removed]",
            "text/plain": [
              "<Figure size 1000x800 with 2 Axes>"
            ]
          },
          "metadata": {},
          "output_type": "display_data"
        }
      ],
      "source": [
        "# Plotando comheatmap\n",
        "plt.figure(figsize=(10,8))\n",
        "sns.heatmap(correlacao, annot= True, cmap= 'coolwarm', fmt= '.2f')\n",
        "plt.title('Mapa de Calor dos Dados')\n",
        "plt.show()"
      ]
    },
    {
      "cell_type": "markdown",
      "metadata": {
        "id": "dKVDg1ULSnqr"
      },
      "source": [
        "#### Aqui já tiramos algumas forte correlações entre as variáveis, como por exemplo:"
      ]
    },
    {
      "cell_type": "markdown",
      "metadata": {
        "id": "xRGputslSnqr"
      },
      "source": [
        "- as variáveis relacionadas ao desempenho econômico (como log_ppc95 e IDH) têm uma forte correlação positiva, o que sugere que economias com maior Produto Interno Bruto (PIB) per capita tendem a ter um maior Índice de Desenvolvimento Humano (IDH)\n",
        "\n",
        "- variável euro1900, que representa a influência colonial europeia, mostra uma correlação positiva com várias outras variáveis, como idh e ind_democ_1900 (índice de democracia em 1900). Isso sugere que regiões com maior influência colonial europeia tendem a ter melhores indicadores de desenvolvimento humano e maior probabilidade de democracia\n",
        "\n",
        "- taxa de mortalidade dos colonizadores (mort_ext_4y) apresenta uma correlação negativa com várias variáveis, incluindo log_ppc95 (PIB per capita) e IDH. Isso indica que em áreas onde os colonizadores enfrentaram maior mortalidade, o desenvolvimento econômico e humano tende a ser menor\n",
        "\n",
        "- a variável ind_democ_1900, que mede a democracia em 1900, mostra uma forte correlação positiva com outras variáveis relacionadas ao desenvolvimento, como log_ppc95 (PIB per capita) e IDH. Isso sugere que a presença de instituições democráticas no passado está associada a melhores resultados econômicos e sociais.\n",
        "\n",
        "- as variáveis relacionadas às instituições coloniais (euro1900 e res_exec_1900) têm uma forte correlação com o desenvolvimento atual. Isso indica que as instituições estabelecidas durante o período colonial podem ter um impacto duradouro no desenvolvimento socioeconômico das regiões.\n",
        "\n",
        "- a presença de instituições democráticas (ind_democ_1900) está positivamente correlacionada com melhores resultados econômicos e sociais, como maior PIB per capita e Índice de Desenvolvimento Humano. Isso sugere que a democracia no período colonial pode ter influenciado positivamente o desenvolvimento futuro."
      ]
    },
    {
      "cell_type": "markdown",
      "metadata": {
        "id": "nVVHCuoOSnqr"
      },
      "source": [
        "### Dispersão dos Dados"
      ]
    },
    {
      "cell_type": "markdown",
      "metadata": {
        "id": "cnRa13fwSnqr"
      },
      "source": [
        "Nesta análise gráfica, estamos explorando a relação entre duas variáveis: 'avexpr', que representa a Proteção Média contra o Risco de Expropriação de 1985 a 1995, e 'logpgp95', que é o Logaritmo do PIB per capita entre 1975 e 1995. Ao observar o gráfico de dispersão dessas variáveis, podemos identificar que tipo de relação existe entre elas.\n",
        "\n",
        "Observarmos uma tendência ascendenteno gráfico de dispersão, indicando uma relação linear positiva entre as variáveis. Também é possível identificar padrões não lineares, como curvas ou agrupamentos de pontos, que indicariam relações mais complexas entre as variáveis."
      ]
    },
    {
      "cell_type": "code",
      "execution_count": null,
      "metadata": {
        "colab": {
          "base_uri": "https://localhost:8080/",
          "height": 617
        },
        "id": "wfhVEH2eSnqs",
        "outputId": "e66bf5e9-0f5d-486c-d1cc-5e6b75001771"
      },
      "outputs": [
        {
          "data": {
            "application/vnd.plotly.v1+json": {
              "config": {
                "plotlyServerURL": "https://plot.ly"
              },
              "data": [
                {
                  "mode": "markers",
                  "type": "scatter",
                  "x": [
                    null,
                    5.363636493682861,
                    7.181818008422852,
                    6.386363506317139,
                    null,
                    9.318181991577148,
                    9.727272987365723,
                    null,
                    null,
                    9.681818008422852,
                    null,
                    4.454545497894287,
                    5.136363506317139,
                    8.909090995788574,
                    8,
                    7.5,
                    null,
                    null,
                    null,
                    5.636363506317139,
                    7.909090995788574,
                    null,
                    null,
                    7.7272725105285645,
                    null,
                    9.727272987365723,
                    10,
                    7.818181991577148,
                    7.7727274894714355,
                    7,
                    6.454545497894287,
                    4.681818008422852,
                    7.318181991577148,
                    null,
                    null,
                    7.045454502105713,
                    8.863636016845703,
                    null,
                    null,
                    9.727272987365723,
                    6.181818008422852,
                    6.5,
                    6.545454502105713,
                    6.7727274894714355,
                    null,
                    9.681818008422852,
                    null,
                    5.7272725105285645,
                    9.727272987365723,
                    null,
                    9.727272987365723,
                    7.818181991577148,
                    9.772727012634277,
                    null,
                    6.2727274894714355,
                    6.545454502105713,
                    8.272727012634277,
                    4.545454502105713,
                    7.818181991577148,
                    5.136363506317139,
                    5.886363506317139,
                    8.136363983154297,
                    5.318181991577148,
                    null,
                    3.7272727489471436,
                    9,
                    7.590909004211426,
                    8.272727012634277,
                    9.727272987365723,
                    4.7727274894714355,
                    1.6363636255264282,
                    9.727272987365723,
                    8.545454978942871,
                    9.454545021057129,
                    7.090909004211426,
                    6.7727274894714355,
                    9.727272987365723,
                    null,
                    6.045454502105713,
                    null,
                    8.636363983154297,
                    7.045454502105713,
                    null,
                    3.6363637447357178,
                    5.2727274894714355,
                    6.045454502105713,
                    null,
                    null,
                    10,
                    null,
                    7.090909004211426,
                    null,
                    4.454545497894287,
                    7.5,
                    null,
                    4,
                    7.2272725105285645,
                    5.7727274894714355,
                    7.363636493682861,
                    6.5,
                    null,
                    null,
                    6.818181991577148,
                    7.954545497894287,
                    null,
                    5,
                    5.545454502105713,
                    5.2272725105285645,
                    10,
                    9.954545021057129,
                    null,
                    9.727272987365723,
                    7.136363506317139,
                    6.045454502105713,
                    5.909090995788574,
                    5.7727274894714355,
                    5.454545497894287,
                    7.2727274894714355,
                    7.681818008422852,
                    null,
                    9.181818008422852,
                    6.954545497894287,
                    7.7272725105285645,
                    7.2727274894714355,
                    8.454545021057129,
                    null,
                    7.590909004211426,
                    4,
                    6,
                    9.318181991577148,
                    5.818181991577148,
                    5,
                    3,
                    8.409090995788574,
                    4.681818008422852,
                    null,
                    null,
                    9.5,
                    null,
                    5.818181991577148,
                    null,
                    6.909090995788574,
                    7.636363506317139,
                    null,
                    null,
                    7.454545497894287,
                    6.454545497894287,
                    7.454545497894287,
                    9.227272987365723,
                    6.636363506317139,
                    4.454545497894287,
                    null,
                    7,
                    10,
                    null,
                    7.136363506317139,
                    6.409090995788574,
                    6.363636493682861,
                    6.318181991577148,
                    6.863636493682861,
                    3.5,
                    6.636363506317139,
                    6
                  ],
                  "y": [
                    null,
                    7.7706451416015625,
                    9.804219245910645,
                    9.133459091186523,
                    7.6824822425842285,
                    9.897972106933594,
                    9.97487735748291,
                    7.3065314292907715,
                    6.56526517868042,
                    9.992871284484863,
                    7.090076923370361,
                    6.845880031585693,
                    6.877295970916748,
                    8.457443237304688,
                    9.685953140258789,
                    9.28544807434082,
                    null,
                    8.340456008911133,
                    8.377931594848633,
                    7.926602363586426,
                    8.72745418548584,
                    9.26672077178955,
                    null,
                    8.855093002319336,
                    7.192934036254883,
                    9.986449241638184,
                    10.120210647583008,
                    9.336091995239258,
                    7.886081218719482,
                    7.444248676300049,
                    7.501081943511963,
                    7.420578956604004,
                    8.809863090515137,
                    7.383989334106445,
                    7.979339122772217,
                    8.794824600219727,
                    9.20432186126709,
                    9.935470581054688,
                    null,
                    10.005592346191406,
                    8.364042282104492,
                    8.389359474182129,
                    8.470101356506348,
                    7.951559543609619,
                    6.620073318481445,
                    9.618468284606934,
                    8.393895149230957,
                    6.10924768447876,
                    9.826066017150879,
                    8.301521301269531,
                    9.963641166687012,
                    8.907882690429688,
                    9.878170013427734,
                    7.371489524841309,
                    7.365180015563965,
                    7.489970684051514,
                    7.272398471832275,
                    null,
                    9.397649765014648,
                    8.294049263000488,
                    7.9047040939331055,
                    10.049750328063965,
                    7.687080383300781,
                    8.418477058410645,
                    7.146772384643555,
                    8.809863090515137,
                    8.070905685424805,
                    7.326000213623047,
                    9.769384384155273,
                    8.605203628540039,
                    null,
                    9.943669319152832,
                    9.784140586853027,
                    9.897972106933594,
                    8.188689231872559,
                    8.171881675720215,
                    10.034076690673828,
                    8.13153076171875,
                    7.056175231933594,
                    7.575584888458252,
                    9.415727615356445,
                    9.803667068481445,
                    7.090076923370361,
                    null,
                    null,
                    7.731930732727051,
                    7.3065314292907715,
                    8.237479209899902,
                    10.288749694824219,
                    8.15478801727295,
                    8.042378425598145,
                    7.377758979797363,
                    6.835184574127197,
                    8.943767547607422,
                    8.061487197875977,
                    6.56526517868042,
                    9.42706298828125,
                    null,
                    7.299797534942627,
                    6.46146821975708,
                    7.414572715759277,
                    9.053686141967773,
                    6.46146821975708,
                    8.894258499145508,
                    8.515191078186035,
                    6.733401775360107,
                    6.8134446144104,
                    7.544332027435303,
                    9.896965980529785,
                    10.023933410644531,
                    6.937314033508301,
                    9.756147384643555,
                    9.208338737487793,
                    7.352441310882568,
                    8.836374282836914,
                    8.396154403686523,
                    8.09864330291748,
                    null,
                    8.655214309692383,
                    null,
                    9.489485740661621,
                    8.20794677734375,
                    9.685331344604492,
                    8.3870849609375,
                    8.405143737792969,
                    6.476972579956055,
                    9.239899635314941,
                    7.3065314292907715,
                    7.402451515197754,
                    10.14643383026123,
                    6.253829002380371,
                    7.948031902313232,
                    null,
                    null,
                    8.010000228881836,
                    8.852235794067383,
                    9.30018138885498,
                    9.866304397583008,
                    8.107720375061035,
                    8.029433250427246,
                    6.835184574127197,
                    7.2225661277771,
                    8.774930953979492,
                    6.887552738189697,
                    7.64012336730957,
                    8.768730163574219,
                    8.4826021194458,
                    8.641179084777832,
                    null,
                    6.253829002380371,
                    6.966024398803711,
                    7.811973571777344,
                    9.031213760375977,
                    10.215740203857422,
                    7.807916641235352,
                    9.071078300476074,
                    7.279318809509277,
                    6.646390438079834,
                    null,
                    8.885993957519531,
                    6.866933345794678,
                    6.8134446144104,
                    7.6962127685546875
                  ]
                }
              ],
              "layout": {
                "annotations": [
                  {
                    "showarrow": false,
                    "text": "Autor: Jonatas A. Liberato",
                    "x": 0.98,
                    "xref": "paper",
                    "y": -0.1,
                    "yref": "paper"
                  }
                ],
                "height": 600,
                "template": {
                  "data": {
                    "bar": [
                      {
                        "error_x": {
                          "color": "#2a3f5f"
                        },
                        "error_y": {
                          "color": "#2a3f5f"
                        },
                        "marker": {
                          "line": {
                            "color": "#E5ECF6",
                            "width": 0.5
                          },
                          "pattern": {
                            "fillmode": "overlay",
                            "size": 10,
                            "solidity": 0.2
                          }
                        },
                        "type": "bar"
                      }
                    ],
                    "barpolar": [
                      {
                        "marker": {
                          "line": {
                            "color": "#E5ECF6",
                            "width": 0.5
                          },
                          "pattern": {
                            "fillmode": "overlay",
                            "size": 10,
                            "solidity": 0.2
                          }
                        },
                        "type": "barpolar"
                      }
                    ],
                    "carpet": [
                      {
                        "aaxis": {
                          "endlinecolor": "#2a3f5f",
                          "gridcolor": "white",
                          "linecolor": "white",
                          "minorgridcolor": "white",
                          "startlinecolor": "#2a3f5f"
                        },
                        "baxis": {
                          "endlinecolor": "#2a3f5f",
                          "gridcolor": "white",
                          "linecolor": "white",
                          "minorgridcolor": "white",
                          "startlinecolor": "#2a3f5f"
                        },
                        "type": "carpet"
                      }
                    ],
                    "choropleth": [
                      {
                        "colorbar": {
                          "outlinewidth": 0,
                          "ticks": ""
                        },
                        "type": "choropleth"
                      }
                    ],
                    "contour": [
                      {
                        "colorbar": {
                          "outlinewidth": 0,
                          "ticks": ""
                        },
                        "colorscale": [
                          [
                            0,
                            "#0d0887"
                          ],
                          [
                            0.1111111111111111,
                            "#46039f"
                          ],
                          [
                            0.2222222222222222,
                            "#7201a8"
                          ],
                          [
                            0.3333333333333333,
                            "#9c179e"
                          ],
                          [
                            0.4444444444444444,
                            "#bd3786"
                          ],
                          [
                            0.5555555555555556,
                            "#d8576b"
                          ],
                          [
                            0.6666666666666666,
                            "#ed7953"
                          ],
                          [
                            0.7777777777777778,
                            "#fb9f3a"
                          ],
                          [
                            0.8888888888888888,
                            "#fdca26"
                          ],
                          [
                            1,
                            "#f0f921"
                          ]
                        ],
                        "type": "contour"
                      }
                    ],
                    "contourcarpet": [
                      {
                        "colorbar": {
                          "outlinewidth": 0,
                          "ticks": ""
                        },
                        "type": "contourcarpet"
                      }
                    ],
                    "heatmap": [
                      {
                        "colorbar": {
                          "outlinewidth": 0,
                          "ticks": ""
                        },
                        "colorscale": [
                          [
                            0,
                            "#0d0887"
                          ],
                          [
                            0.1111111111111111,
                            "#46039f"
                          ],
                          [
                            0.2222222222222222,
                            "#7201a8"
                          ],
                          [
                            0.3333333333333333,
                            "#9c179e"
                          ],
                          [
                            0.4444444444444444,
                            "#bd3786"
                          ],
                          [
                            0.5555555555555556,
                            "#d8576b"
                          ],
                          [
                            0.6666666666666666,
                            "#ed7953"
                          ],
                          [
                            0.7777777777777778,
                            "#fb9f3a"
                          ],
                          [
                            0.8888888888888888,
                            "#fdca26"
                          ],
                          [
                            1,
                            "#f0f921"
                          ]
                        ],
                        "type": "heatmap"
                      }
                    ],
                    "heatmapgl": [
                      {
                        "colorbar": {
                          "outlinewidth": 0,
                          "ticks": ""
                        },
                        "colorscale": [
                          [
                            0,
                            "#0d0887"
                          ],
                          [
                            0.1111111111111111,
                            "#46039f"
                          ],
                          [
                            0.2222222222222222,
                            "#7201a8"
                          ],
                          [
                            0.3333333333333333,
                            "#9c179e"
                          ],
                          [
                            0.4444444444444444,
                            "#bd3786"
                          ],
                          [
                            0.5555555555555556,
                            "#d8576b"
                          ],
                          [
                            0.6666666666666666,
                            "#ed7953"
                          ],
                          [
                            0.7777777777777778,
                            "#fb9f3a"
                          ],
                          [
                            0.8888888888888888,
                            "#fdca26"
                          ],
                          [
                            1,
                            "#f0f921"
                          ]
                        ],
                        "type": "heatmapgl"
                      }
                    ],
                    "histogram": [
                      {
                        "marker": {
                          "pattern": {
                            "fillmode": "overlay",
                            "size": 10,
                            "solidity": 0.2
                          }
                        },
                        "type": "histogram"
                      }
                    ],
                    "histogram2d": [
                      {
                        "colorbar": {
                          "outlinewidth": 0,
                          "ticks": ""
                        },
                        "colorscale": [
                          [
                            0,
                            "#0d0887"
                          ],
                          [
                            0.1111111111111111,
                            "#46039f"
                          ],
                          [
                            0.2222222222222222,
                            "#7201a8"
                          ],
                          [
                            0.3333333333333333,
                            "#9c179e"
                          ],
                          [
                            0.4444444444444444,
                            "#bd3786"
                          ],
                          [
                            0.5555555555555556,
                            "#d8576b"
                          ],
                          [
                            0.6666666666666666,
                            "#ed7953"
                          ],
                          [
                            0.7777777777777778,
                            "#fb9f3a"
                          ],
                          [
                            0.8888888888888888,
                            "#fdca26"
                          ],
                          [
                            1,
                            "#f0f921"
                          ]
                        ],
                        "type": "histogram2d"
                      }
                    ],
                    "histogram2dcontour": [
                      {
                        "colorbar": {
                          "outlinewidth": 0,
                          "ticks": ""
                        },
                        "colorscale": [
                          [
                            0,
                            "#0d0887"
                          ],
                          [
                            0.1111111111111111,
                            "#46039f"
                          ],
                          [
                            0.2222222222222222,
                            "#7201a8"
                          ],
                          [
                            0.3333333333333333,
                            "#9c179e"
                          ],
                          [
                            0.4444444444444444,
                            "#bd3786"
                          ],
                          [
                            0.5555555555555556,
                            "#d8576b"
                          ],
                          [
                            0.6666666666666666,
                            "#ed7953"
                          ],
                          [
                            0.7777777777777778,
                            "#fb9f3a"
                          ],
                          [
                            0.8888888888888888,
                            "#fdca26"
                          ],
                          [
                            1,
                            "#f0f921"
                          ]
                        ],
                        "type": "histogram2dcontour"
                      }
                    ],
                    "mesh3d": [
                      {
                        "colorbar": {
                          "outlinewidth": 0,
                          "ticks": ""
                        },
                        "type": "mesh3d"
                      }
                    ],
                    "parcoords": [
                      {
                        "line": {
                          "colorbar": {
                            "outlinewidth": 0,
                            "ticks": ""
                          }
                        },
                        "type": "parcoords"
                      }
                    ],
                    "pie": [
                      {
                        "automargin": true,
                        "type": "pie"
                      }
                    ],
                    "scatter": [
                      {
                        "fillpattern": {
                          "fillmode": "overlay",
                          "size": 10,
                          "solidity": 0.2
                        },
                        "type": "scatter"
                      }
                    ],
                    "scatter3d": [
                      {
                        "line": {
                          "colorbar": {
                            "outlinewidth": 0,
                            "ticks": ""
                          }
                        },
                        "marker": {
                          "colorbar": {
                            "outlinewidth": 0,
                            "ticks": ""
                          }
                        },
                        "type": "scatter3d"
                      }
                    ],
                    "scattercarpet": [
                      {
                        "marker": {
                          "colorbar": {
                            "outlinewidth": 0,
                            "ticks": ""
                          }
                        },
                        "type": "scattercarpet"
                      }
                    ],
                    "scattergeo": [
                      {
                        "marker": {
                          "colorbar": {
                            "outlinewidth": 0,
                            "ticks": ""
                          }
                        },
                        "type": "scattergeo"
                      }
                    ],
                    "scattergl": [
                      {
                        "marker": {
                          "colorbar": {
                            "outlinewidth": 0,
                            "ticks": ""
                          }
                        },
                        "type": "scattergl"
                      }
                    ],
                    "scattermapbox": [
                      {
                        "marker": {
                          "colorbar": {
                            "outlinewidth": 0,
                            "ticks": ""
                          }
                        },
                        "type": "scattermapbox"
                      }
                    ],
                    "scatterpolar": [
                      {
                        "marker": {
                          "colorbar": {
                            "outlinewidth": 0,
                            "ticks": ""
                          }
                        },
                        "type": "scatterpolar"
                      }
                    ],
                    "scatterpolargl": [
                      {
                        "marker": {
                          "colorbar": {
                            "outlinewidth": 0,
                            "ticks": ""
                          }
                        },
                        "type": "scatterpolargl"
                      }
                    ],
                    "scatterternary": [
                      {
                        "marker": {
                          "colorbar": {
                            "outlinewidth": 0,
                            "ticks": ""
                          }
                        },
                        "type": "scatterternary"
                      }
                    ],
                    "surface": [
                      {
                        "colorbar": {
                          "outlinewidth": 0,
                          "ticks": ""
                        },
                        "colorscale": [
                          [
                            0,
                            "#0d0887"
                          ],
                          [
                            0.1111111111111111,
                            "#46039f"
                          ],
                          [
                            0.2222222222222222,
                            "#7201a8"
                          ],
                          [
                            0.3333333333333333,
                            "#9c179e"
                          ],
                          [
                            0.4444444444444444,
                            "#bd3786"
                          ],
                          [
                            0.5555555555555556,
                            "#d8576b"
                          ],
                          [
                            0.6666666666666666,
                            "#ed7953"
                          ],
                          [
                            0.7777777777777778,
                            "#fb9f3a"
                          ],
                          [
                            0.8888888888888888,
                            "#fdca26"
                          ],
                          [
                            1,
                            "#f0f921"
                          ]
                        ],
                        "type": "surface"
                      }
                    ],
                    "table": [
                      {
                        "cells": {
                          "fill": {
                            "color": "#EBF0F8"
                          },
                          "line": {
                            "color": "white"
                          }
                        },
                        "header": {
                          "fill": {
                            "color": "#C8D4E3"
                          },
                          "line": {
                            "color": "white"
                          }
                        },
                        "type": "table"
                      }
                    ]
                  },
                  "layout": {
                    "annotationdefaults": {
                      "arrowcolor": "#2a3f5f",
                      "arrowhead": 0,
                      "arrowwidth": 1
                    },
                    "autotypenumbers": "strict",
                    "coloraxis": {
                      "colorbar": {
                        "outlinewidth": 0,
                        "ticks": ""
                      }
                    },
                    "colorscale": {
                      "diverging": [
                        [
                          0,
                          "#8e0152"
                        ],
                        [
                          0.1,
                          "#c51b7d"
                        ],
                        [
                          0.2,
                          "#de77ae"
                        ],
                        [
                          0.3,
                          "#f1b6da"
                        ],
                        [
                          0.4,
                          "#fde0ef"
                        ],
                        [
                          0.5,
                          "#f7f7f7"
                        ],
                        [
                          0.6,
                          "#e6f5d0"
                        ],
                        [
                          0.7,
                          "#b8e186"
                        ],
                        [
                          0.8,
                          "#7fbc41"
                        ],
                        [
                          0.9,
                          "#4d9221"
                        ],
                        [
                          1,
                          "#276419"
                        ]
                      ],
                      "sequential": [
                        [
                          0,
                          "#0d0887"
                        ],
                        [
                          0.1111111111111111,
                          "#46039f"
                        ],
                        [
                          0.2222222222222222,
                          "#7201a8"
                        ],
                        [
                          0.3333333333333333,
                          "#9c179e"
                        ],
                        [
                          0.4444444444444444,
                          "#bd3786"
                        ],
                        [
                          0.5555555555555556,
                          "#d8576b"
                        ],
                        [
                          0.6666666666666666,
                          "#ed7953"
                        ],
                        [
                          0.7777777777777778,
                          "#fb9f3a"
                        ],
                        [
                          0.8888888888888888,
                          "#fdca26"
                        ],
                        [
                          1,
                          "#f0f921"
                        ]
                      ],
                      "sequentialminus": [
                        [
                          0,
                          "#0d0887"
                        ],
                        [
                          0.1111111111111111,
                          "#46039f"
                        ],
                        [
                          0.2222222222222222,
                          "#7201a8"
                        ],
                        [
                          0.3333333333333333,
                          "#9c179e"
                        ],
                        [
                          0.4444444444444444,
                          "#bd3786"
                        ],
                        [
                          0.5555555555555556,
                          "#d8576b"
                        ],
                        [
                          0.6666666666666666,
                          "#ed7953"
                        ],
                        [
                          0.7777777777777778,
                          "#fb9f3a"
                        ],
                        [
                          0.8888888888888888,
                          "#fdca26"
                        ],
                        [
                          1,
                          "#f0f921"
                        ]
                      ]
                    },
                    "colorway": [
                      "#636efa",
                      "#EF553B",
                      "#00cc96",
                      "#ab63fa",
                      "#FFA15A",
                      "#19d3f3",
                      "#FF6692",
                      "#B6E880",
                      "#FF97FF",
                      "#FECB52"
                    ],
                    "font": {
                      "color": "#2a3f5f"
                    },
                    "geo": {
                      "bgcolor": "white",
                      "lakecolor": "white",
                      "landcolor": "#E5ECF6",
                      "showlakes": true,
                      "showland": true,
                      "subunitcolor": "white"
                    },
                    "hoverlabel": {
                      "align": "left"
                    },
                    "hovermode": "closest",
                    "mapbox": {
                      "style": "light"
                    },
                    "paper_bgcolor": "white",
                    "plot_bgcolor": "#E5ECF6",
                    "polar": {
                      "angularaxis": {
                        "gridcolor": "white",
                        "linecolor": "white",
                        "ticks": ""
                      },
                      "bgcolor": "#E5ECF6",
                      "radialaxis": {
                        "gridcolor": "white",
                        "linecolor": "white",
                        "ticks": ""
                      }
                    },
                    "scene": {
                      "xaxis": {
                        "backgroundcolor": "#E5ECF6",
                        "gridcolor": "white",
                        "gridwidth": 2,
                        "linecolor": "white",
                        "showbackground": true,
                        "ticks": "",
                        "zerolinecolor": "white"
                      },
                      "yaxis": {
                        "backgroundcolor": "#E5ECF6",
                        "gridcolor": "white",
                        "gridwidth": 2,
                        "linecolor": "white",
                        "showbackground": true,
                        "ticks": "",
                        "zerolinecolor": "white"
                      },
                      "zaxis": {
                        "backgroundcolor": "#E5ECF6",
                        "gridcolor": "white",
                        "gridwidth": 2,
                        "linecolor": "white",
                        "showbackground": true,
                        "ticks": "",
                        "zerolinecolor": "white"
                      }
                    },
                    "shapedefaults": {
                      "line": {
                        "color": "#2a3f5f"
                      }
                    },
                    "ternary": {
                      "aaxis": {
                        "gridcolor": "white",
                        "linecolor": "white",
                        "ticks": ""
                      },
                      "baxis": {
                        "gridcolor": "white",
                        "linecolor": "white",
                        "ticks": ""
                      },
                      "bgcolor": "#E5ECF6",
                      "caxis": {
                        "gridcolor": "white",
                        "linecolor": "white",
                        "ticks": ""
                      }
                    },
                    "title": {
                      "x": 0.05
                    },
                    "xaxis": {
                      "automargin": true,
                      "gridcolor": "white",
                      "linecolor": "white",
                      "ticks": "",
                      "title": {
                        "standoff": 15
                      },
                      "zerolinecolor": "white",
                      "zerolinewidth": 2
                    },
                    "yaxis": {
                      "automargin": true,
                      "gridcolor": "white",
                      "linecolor": "white",
                      "ticks": "",
                      "title": {
                        "standoff": 15
                      },
                      "zerolinecolor": "white",
                      "zerolinewidth": 2
                    }
                  }
                },
                "title": {
                  "font": {
                    "size": 16
                  },
                  "text": "Proteção média contra o risco de expropriação x PIB per capita (1975 - 1995)",
                  "x": 0.5,
                  "y": 0.98
                },
                "width": 800,
                "xaxis": {
                  "title": {
                    "text": "Risco de expropriação"
                  }
                },
                "yaxis": {
                  "title": {
                    "text": "PIB per capita"
                  }
                }
              }
            }
          },
          "metadata": {},
          "output_type": "display_data"
        }
      ],
      "source": [
        "# Criar o gráfico de dispersão\n",
        "fig = go.Figure()\n",
        "# Adicionar os dados\n",
        "fig.add_trace(go.Scatter(x=df['avexpr'], y=df['logpgp95'], mode='markers'))\n",
        "# Atualizar o layout para definir as dimensões\n",
        "fig.update_layout(\n",
        "    height=600,\n",
        "    width=800,\n",
        "    title=dict(text=\"Proteção média contra o risco de expropriação x PIB per capita (1975 - 1995)\", x=0.5, y=0.98, font=dict(size=16)),\n",
        "    xaxis_title=\"Risco de expropriação\",\n",
        "    yaxis_title=\"PIB per capita\",\n",
        "    annotations=[dict(text=\"Autor: Jonatas A. Liberato\", x=0.98, y=-0.1, xref=\"paper\", yref=\"paper\", showarrow=False)],\n",
        ")\n",
        "# Exibir o gráfico\n",
        "fig.show()"
      ]
    },
    {
      "cell_type": "markdown",
      "metadata": {
        "id": "qfWry1KsSnqs"
      },
      "source": [
        "Este gráfico revela uma tendência ascendente, indicando uma relação linear positiva entre a proteção contra expropriação e o PIB per capita."
      ]
    },
    {
      "cell_type": "markdown",
      "metadata": {
        "id": "54z7qiSHWzXa"
      },
      "source": [
        "### Qualidade Institucional x Desempenho Econômico"
      ]
    },
    {
      "cell_type": "markdown",
      "metadata": {
        "id": "2fIa65iNXSrT"
      },
      "source": [
        "Nosso objetivo aqui é mostrar que melhorar a qualidade das instituições (especialmente a proteção contra expropriação) pode levar a um melhor desempenho econômico, influenciando políticas públicas, decisões de investimento e estratégias de desenvolvimento.\n",
        "\n",
        "Para isso propomos algumas explicações:\n",
        "- Índice de Proteção Contra o Risco de Expropriação: Este índice mede quão bem as instituições (como governo, sistema legal, etc.) protegem os direitos de propriedade dos indivíduos contra a expropriação (ou seja, contra o governo tomar seus bens sem justa compensação).\n",
        "\n",
        "- Qualidade Institucional: Quando dizemos que uma instituição é de \"alta qualidade\", significa que ela funciona bem, protegendo os direitos das pessoas e sendo eficiente e justa.\n",
        "\n",
        "- Desempenho Econômico: Isso geralmente é medido pelo PIB per capita, que é o valor total de todos os bens e serviços produzidos em um país dividido pelo número de habitantes. Um PIB per capita elevado indica uma economia próspera.\n",
        "\n",
        "- Relação: A frase sugere que se as instituições de um país são melhores (medido por um alto índice de proteção contra expropriação), então esse país tende a ter um melhor desempenho econômico (medido por um PIB per capita elevado)."
      ]
    },
    {
      "cell_type": "markdown",
      "metadata": {
        "id": "zxhsSssSXX6t"
      },
      "source": [
        "Para entender essa relação, podemos criar um modelo simples que usa o PIB per capita como a variável que queremos prever (variável dependente) e o Índice Médio de Proteção contra o risco de expropriação como a variável que usamos para fazer a previsão (variável explicativa).\n",
        "\n",
        "Onde:\n",
        "\n",
        "- Modelo Bivariado: análise estatística que examina a relação entre duas variáveis\n",
        "\n",
        "- Variável Dependente: variável dependente é o PIB per capita, o que significa que estamos tentando entender o que influencia o PIB per capita\n",
        "\n",
        "- Variável Explicativa: é o Índice de Proteção contra o risco de expropriação. Isso significa que estamos usando este índice para tentar explicar as variações no PIB per capita"
      ]
    },
    {
      "cell_type": "code",
      "execution_count": null,
      "metadata": {
        "colab": {
          "base_uri": "https://localhost:8080/",
          "height": 143
        },
        "id": "KM8c0g1IZFfO",
        "outputId": "16a51a0d-e82f-4e45-9837-9cf55d3fff8f"
      },
      "outputs": [
        {
          "data": {
            "text/html": [
              "<div>\n",
              "<style scoped>\n",
              "    .dataframe tbody tr th:only-of-type {\n",
              "        vertical-align: middle;\n",
              "    }\n",
              "\n",
              "    .dataframe tbody tr th {\n",
              "        vertical-align: top;\n",
              "    }\n",
              "\n",
              "    .dataframe thead th {\n",
              "        text-align: right;\n",
              "    }\n",
              "</style>\n",
              "<table border=\"1\" class=\"dataframe\">\n",
              "  <thead>\n",
              "    <tr style=\"text-align: right;\">\n",
              "      <th></th>\n",
              "      <th>shortnam</th>\n",
              "      <th>euro1900</th>\n",
              "      <th>excolony</th>\n",
              "      <th>avexpr</th>\n",
              "      <th>logpgp95</th>\n",
              "      <th>cons1</th>\n",
              "      <th>cons90</th>\n",
              "      <th>democ00a</th>\n",
              "      <th>cons00a</th>\n",
              "      <th>extmort4</th>\n",
              "      <th>logem4</th>\n",
              "      <th>loghjypl</th>\n",
              "      <th>baseco</th>\n",
              "    </tr>\n",
              "  </thead>\n",
              "  <tbody>\n",
              "    <tr>\n",
              "      <th>0</th>\n",
              "      <td>AFG</td>\n",
              "      <td>0.0</td>\n",
              "      <td>1.0</td>\n",
              "      <td>NaN</td>\n",
              "      <td>NaN</td>\n",
              "      <td>1.0</td>\n",
              "      <td>2.0</td>\n",
              "      <td>1.0</td>\n",
              "      <td>1.0</td>\n",
              "      <td>93.699997</td>\n",
              "      <td>4.540098</td>\n",
              "      <td>NaN</td>\n",
              "      <td>NaN</td>\n",
              "    </tr>\n",
              "    <tr>\n",
              "      <th>1</th>\n",
              "      <td>AGO</td>\n",
              "      <td>8.0</td>\n",
              "      <td>1.0</td>\n",
              "      <td>5.363636</td>\n",
              "      <td>7.770645</td>\n",
              "      <td>3.0</td>\n",
              "      <td>3.0</td>\n",
              "      <td>0.0</td>\n",
              "      <td>1.0</td>\n",
              "      <td>280.000000</td>\n",
              "      <td>5.634789</td>\n",
              "      <td>-3.411248</td>\n",
              "      <td>1.0</td>\n",
              "    </tr>\n",
              "    <tr>\n",
              "      <th>2</th>\n",
              "      <td>ARE</td>\n",
              "      <td>0.0</td>\n",
              "      <td>1.0</td>\n",
              "      <td>7.181818</td>\n",
              "      <td>9.804219</td>\n",
              "      <td>NaN</td>\n",
              "      <td>NaN</td>\n",
              "      <td>NaN</td>\n",
              "      <td>NaN</td>\n",
              "      <td>NaN</td>\n",
              "      <td>NaN</td>\n",
              "      <td>NaN</td>\n",
              "      <td>NaN</td>\n",
              "    </tr>\n",
              "  </tbody>\n",
              "</table>\n",
              "</div>"
            ],
            "text/plain": [
              "  shortnam  euro1900  excolony    avexpr  logpgp95  cons1  cons90  democ00a  \\\n",
              "0      AFG       0.0       1.0       NaN       NaN    1.0     2.0       1.0   \n",
              "1      AGO       8.0       1.0  5.363636  7.770645    3.0     3.0       0.0   \n",
              "2      ARE       0.0       1.0  7.181818  9.804219    NaN     NaN       NaN   \n",
              "\n",
              "   cons00a    extmort4    logem4  loghjypl  baseco  \n",
              "0      1.0   93.699997  4.540098       NaN     NaN  \n",
              "1      1.0  280.000000  5.634789 -3.411248     1.0  \n",
              "2      NaN         NaN       NaN       NaN     NaN  "
            ]
          },
          "execution_count": 123,
          "metadata": {},
          "output_type": "execute_result"
        }
      ],
      "source": [
        "df.head(3)"
      ]
    },
    {
      "cell_type": "code",
      "execution_count": null,
      "metadata": {
        "colab": {
          "base_uri": "https://localhost:8080/"
        },
        "id": "2_vrk-IYZugR",
        "outputId": "a3f18fbf-e1cb-42e8-f0ce-1d8f7adfaa87"
      },
      "outputs": [
        {
          "name": "stdout",
          "output_type": "stream",
          "text": [
            "logpgp95    15\n",
            "avexpr      42\n",
            "dtype: int64\n"
          ]
        }
      ],
      "source": [
        "print(df[['logpgp95', 'avexpr']].isna().sum())"
      ]
    },
    {
      "cell_type": "code",
      "execution_count": null,
      "metadata": {
        "id": "tH7eQrg2aSQA"
      },
      "outputs": [],
      "source": [
        "dados_limpos = df.copy()"
      ]
    },
    {
      "cell_type": "code",
      "execution_count": null,
      "metadata": {
        "colab": {
          "base_uri": "https://localhost:8080/",
          "height": 424
        },
        "id": "Gfg4rOL8Ybft",
        "outputId": "eb45b8f2-d708-44ce-8cbd-8fa4ed5956fb"
      },
      "outputs": [
        {
          "data": {
            "text/html": [
              "<div>\n",
              "<style scoped>\n",
              "    .dataframe tbody tr th:only-of-type {\n",
              "        vertical-align: middle;\n",
              "    }\n",
              "\n",
              "    .dataframe tbody tr th {\n",
              "        vertical-align: top;\n",
              "    }\n",
              "\n",
              "    .dataframe thead th {\n",
              "        text-align: right;\n",
              "    }\n",
              "</style>\n",
              "<table border=\"1\" class=\"dataframe\">\n",
              "  <thead>\n",
              "    <tr style=\"text-align: right;\">\n",
              "      <th></th>\n",
              "      <th>shortnam</th>\n",
              "      <th>euro1900</th>\n",
              "      <th>excolony</th>\n",
              "      <th>avexpr</th>\n",
              "      <th>logpgp95</th>\n",
              "      <th>cons1</th>\n",
              "      <th>cons90</th>\n",
              "      <th>democ00a</th>\n",
              "      <th>cons00a</th>\n",
              "      <th>extmort4</th>\n",
              "      <th>logem4</th>\n",
              "      <th>loghjypl</th>\n",
              "      <th>baseco</th>\n",
              "    </tr>\n",
              "  </thead>\n",
              "  <tbody>\n",
              "    <tr>\n",
              "      <th>1</th>\n",
              "      <td>AGO</td>\n",
              "      <td>8.000000</td>\n",
              "      <td>1.0</td>\n",
              "      <td>5.363636</td>\n",
              "      <td>7.770645</td>\n",
              "      <td>3.0</td>\n",
              "      <td>3.0</td>\n",
              "      <td>0.0</td>\n",
              "      <td>1.0</td>\n",
              "      <td>280.000000</td>\n",
              "      <td>5.634789</td>\n",
              "      <td>-3.411248</td>\n",
              "      <td>1.0</td>\n",
              "    </tr>\n",
              "    <tr>\n",
              "      <th>2</th>\n",
              "      <td>ARE</td>\n",
              "      <td>0.000000</td>\n",
              "      <td>1.0</td>\n",
              "      <td>7.181818</td>\n",
              "      <td>9.804219</td>\n",
              "      <td>NaN</td>\n",
              "      <td>NaN</td>\n",
              "      <td>NaN</td>\n",
              "      <td>NaN</td>\n",
              "      <td>NaN</td>\n",
              "      <td>NaN</td>\n",
              "      <td>NaN</td>\n",
              "      <td>NaN</td>\n",
              "    </tr>\n",
              "    <tr>\n",
              "      <th>3</th>\n",
              "      <td>ARG</td>\n",
              "      <td>60.000004</td>\n",
              "      <td>1.0</td>\n",
              "      <td>6.386364</td>\n",
              "      <td>9.133459</td>\n",
              "      <td>1.0</td>\n",
              "      <td>6.0</td>\n",
              "      <td>3.0</td>\n",
              "      <td>3.0</td>\n",
              "      <td>68.900002</td>\n",
              "      <td>4.232656</td>\n",
              "      <td>-0.872274</td>\n",
              "      <td>1.0</td>\n",
              "    </tr>\n",
              "    <tr>\n",
              "      <th>5</th>\n",
              "      <td>AUS</td>\n",
              "      <td>98.000000</td>\n",
              "      <td>1.0</td>\n",
              "      <td>9.318182</td>\n",
              "      <td>9.897972</td>\n",
              "      <td>7.0</td>\n",
              "      <td>7.0</td>\n",
              "      <td>10.0</td>\n",
              "      <td>7.0</td>\n",
              "      <td>8.550000</td>\n",
              "      <td>2.145931</td>\n",
              "      <td>-0.170788</td>\n",
              "      <td>1.0</td>\n",
              "    </tr>\n",
              "    <tr>\n",
              "      <th>6</th>\n",
              "      <td>AUT</td>\n",
              "      <td>100.000000</td>\n",
              "      <td>0.0</td>\n",
              "      <td>9.727273</td>\n",
              "      <td>9.974877</td>\n",
              "      <td>NaN</td>\n",
              "      <td>NaN</td>\n",
              "      <td>NaN</td>\n",
              "      <td>NaN</td>\n",
              "      <td>NaN</td>\n",
              "      <td>NaN</td>\n",
              "      <td>-0.343900</td>\n",
              "      <td>NaN</td>\n",
              "    </tr>\n",
              "    <tr>\n",
              "      <th>...</th>\n",
              "      <td>...</td>\n",
              "      <td>...</td>\n",
              "      <td>...</td>\n",
              "      <td>...</td>\n",
              "      <td>...</td>\n",
              "      <td>...</td>\n",
              "      <td>...</td>\n",
              "      <td>...</td>\n",
              "      <td>...</td>\n",
              "      <td>...</td>\n",
              "      <td>...</td>\n",
              "      <td>...</td>\n",
              "      <td>...</td>\n",
              "    </tr>\n",
              "    <tr>\n",
              "      <th>157</th>\n",
              "      <td>YEM</td>\n",
              "      <td>0.000000</td>\n",
              "      <td>1.0</td>\n",
              "      <td>6.363636</td>\n",
              "      <td>6.646390</td>\n",
              "      <td>NaN</td>\n",
              "      <td>NaN</td>\n",
              "      <td>NaN</td>\n",
              "      <td>NaN</td>\n",
              "      <td>NaN</td>\n",
              "      <td>NaN</td>\n",
              "      <td>-1.551169</td>\n",
              "      <td>NaN</td>\n",
              "    </tr>\n",
              "    <tr>\n",
              "      <th>159</th>\n",
              "      <td>ZAF</td>\n",
              "      <td>22.000000</td>\n",
              "      <td>1.0</td>\n",
              "      <td>6.863636</td>\n",
              "      <td>8.885994</td>\n",
              "      <td>3.0</td>\n",
              "      <td>7.0</td>\n",
              "      <td>3.0</td>\n",
              "      <td>3.0</td>\n",
              "      <td>15.500000</td>\n",
              "      <td>2.740840</td>\n",
              "      <td>-1.386294</td>\n",
              "      <td>1.0</td>\n",
              "    </tr>\n",
              "    <tr>\n",
              "      <th>160</th>\n",
              "      <td>ZAR</td>\n",
              "      <td>8.000000</td>\n",
              "      <td>1.0</td>\n",
              "      <td>3.500000</td>\n",
              "      <td>6.866933</td>\n",
              "      <td>1.0</td>\n",
              "      <td>1.0</td>\n",
              "      <td>0.0</td>\n",
              "      <td>1.0</td>\n",
              "      <td>240.000000</td>\n",
              "      <td>5.480639</td>\n",
              "      <td>-3.411248</td>\n",
              "      <td>1.0</td>\n",
              "    </tr>\n",
              "    <tr>\n",
              "      <th>161</th>\n",
              "      <td>ZMB</td>\n",
              "      <td>3.000000</td>\n",
              "      <td>1.0</td>\n",
              "      <td>6.636364</td>\n",
              "      <td>6.813445</td>\n",
              "      <td>3.0</td>\n",
              "      <td>1.0</td>\n",
              "      <td>0.0</td>\n",
              "      <td>1.0</td>\n",
              "      <td>NaN</td>\n",
              "      <td>NaN</td>\n",
              "      <td>-2.975930</td>\n",
              "      <td>NaN</td>\n",
              "    </tr>\n",
              "    <tr>\n",
              "      <th>162</th>\n",
              "      <td>ZWE</td>\n",
              "      <td>7.200000</td>\n",
              "      <td>1.0</td>\n",
              "      <td>6.000000</td>\n",
              "      <td>7.696213</td>\n",
              "      <td>7.0</td>\n",
              "      <td>3.0</td>\n",
              "      <td>0.0</td>\n",
              "      <td>1.0</td>\n",
              "      <td>NaN</td>\n",
              "      <td>NaN</td>\n",
              "      <td>-2.733368</td>\n",
              "      <td>NaN</td>\n",
              "    </tr>\n",
              "  </tbody>\n",
              "</table>\n",
              "<p>111 rows × 13 columns</p>\n",
              "</div>"
            ],
            "text/plain": [
              "    shortnam    euro1900  excolony    avexpr  logpgp95  cons1  cons90  \\\n",
              "1        AGO    8.000000       1.0  5.363636  7.770645    3.0     3.0   \n",
              "2        ARE    0.000000       1.0  7.181818  9.804219    NaN     NaN   \n",
              "3        ARG   60.000004       1.0  6.386364  9.133459    1.0     6.0   \n",
              "5        AUS   98.000000       1.0  9.318182  9.897972    7.0     7.0   \n",
              "6        AUT  100.000000       0.0  9.727273  9.974877    NaN     NaN   \n",
              "..       ...         ...       ...       ...       ...    ...     ...   \n",
              "157      YEM    0.000000       1.0  6.363636  6.646390    NaN     NaN   \n",
              "159      ZAF   22.000000       1.0  6.863636  8.885994    3.0     7.0   \n",
              "160      ZAR    8.000000       1.0  3.500000  6.866933    1.0     1.0   \n",
              "161      ZMB    3.000000       1.0  6.636364  6.813445    3.0     1.0   \n",
              "162      ZWE    7.200000       1.0  6.000000  7.696213    7.0     3.0   \n",
              "\n",
              "     democ00a  cons00a    extmort4    logem4  loghjypl  baseco  \n",
              "1         0.0      1.0  280.000000  5.634789 -3.411248     1.0  \n",
              "2         NaN      NaN         NaN       NaN       NaN     NaN  \n",
              "3         3.0      3.0   68.900002  4.232656 -0.872274     1.0  \n",
              "5        10.0      7.0    8.550000  2.145931 -0.170788     1.0  \n",
              "6         NaN      NaN         NaN       NaN -0.343900     NaN  \n",
              "..        ...      ...         ...       ...       ...     ...  \n",
              "157       NaN      NaN         NaN       NaN -1.551169     NaN  \n",
              "159       3.0      3.0   15.500000  2.740840 -1.386294     1.0  \n",
              "160       0.0      1.0  240.000000  5.480639 -3.411248     1.0  \n",
              "161       0.0      1.0         NaN       NaN -2.975930     NaN  \n",
              "162       0.0      1.0         NaN       NaN -2.733368     NaN  \n",
              "\n",
              "[111 rows x 13 columns]"
            ]
          },
          "execution_count": 126,
          "metadata": {},
          "output_type": "execute_result"
        }
      ],
      "source": [
        "# Fazemos uma limpeza nos dados para evitar distorções de valores NaN\n",
        "dados_limpos = dados_limpos.dropna(subset=['logpgp95', 'avexpr'])\n",
        "dados_limpos"
      ]
    },
    {
      "cell_type": "markdown",
      "metadata": {
        "id": "TxZraEOpeDew"
      },
      "source": [
        "### Separando os registros onde baseco é igual a 1"
      ]
    },
    {
      "cell_type": "markdown",
      "metadata": {},
      "source": [
        "Criamos a variável \"baseco\" para garantir que as análises econométricas sejam conduzidas em um conjunto de dados específico e relevante, Ou seja, indica observações válidas e pertinentes, assegurando que as inferências sobre a relação entre instituições coloniais e desempenho econômico sejam robustas e significativas."
      ]
    },
    {
      "cell_type": "code",
      "execution_count": null,
      "metadata": {
        "colab": {
          "base_uri": "https://localhost:8080/",
          "height": 424
        },
        "id": "piB93EHDeH5H",
        "outputId": "a536afad-f247-4869-c454-93161cdabc25"
      },
      "outputs": [
        {
          "data": {
            "text/html": [
              "<div>\n",
              "<style scoped>\n",
              "    .dataframe tbody tr th:only-of-type {\n",
              "        vertical-align: middle;\n",
              "    }\n",
              "\n",
              "    .dataframe tbody tr th {\n",
              "        vertical-align: top;\n",
              "    }\n",
              "\n",
              "    .dataframe thead th {\n",
              "        text-align: right;\n",
              "    }\n",
              "</style>\n",
              "<table border=\"1\" class=\"dataframe\">\n",
              "  <thead>\n",
              "    <tr style=\"text-align: right;\">\n",
              "      <th></th>\n",
              "      <th>shortnam</th>\n",
              "      <th>euro1900</th>\n",
              "      <th>excolony</th>\n",
              "      <th>avexpr</th>\n",
              "      <th>logpgp95</th>\n",
              "      <th>cons1</th>\n",
              "      <th>cons90</th>\n",
              "      <th>democ00a</th>\n",
              "      <th>cons00a</th>\n",
              "      <th>extmort4</th>\n",
              "      <th>logem4</th>\n",
              "      <th>loghjypl</th>\n",
              "      <th>baseco</th>\n",
              "    </tr>\n",
              "  </thead>\n",
              "  <tbody>\n",
              "    <tr>\n",
              "      <th>1</th>\n",
              "      <td>AGO</td>\n",
              "      <td>8.000000</td>\n",
              "      <td>1.0</td>\n",
              "      <td>5.363636</td>\n",
              "      <td>7.770645</td>\n",
              "      <td>3.0</td>\n",
              "      <td>3.0</td>\n",
              "      <td>0.0</td>\n",
              "      <td>1.0</td>\n",
              "      <td>280.000000</td>\n",
              "      <td>5.634789</td>\n",
              "      <td>-3.411248</td>\n",
              "      <td>1.0</td>\n",
              "    </tr>\n",
              "    <tr>\n",
              "      <th>3</th>\n",
              "      <td>ARG</td>\n",
              "      <td>60.000004</td>\n",
              "      <td>1.0</td>\n",
              "      <td>6.386364</td>\n",
              "      <td>9.133459</td>\n",
              "      <td>1.0</td>\n",
              "      <td>6.0</td>\n",
              "      <td>3.0</td>\n",
              "      <td>3.0</td>\n",
              "      <td>68.900002</td>\n",
              "      <td>4.232656</td>\n",
              "      <td>-0.872274</td>\n",
              "      <td>1.0</td>\n",
              "    </tr>\n",
              "    <tr>\n",
              "      <th>5</th>\n",
              "      <td>AUS</td>\n",
              "      <td>98.000000</td>\n",
              "      <td>1.0</td>\n",
              "      <td>9.318182</td>\n",
              "      <td>9.897972</td>\n",
              "      <td>7.0</td>\n",
              "      <td>7.0</td>\n",
              "      <td>10.0</td>\n",
              "      <td>7.0</td>\n",
              "      <td>8.550000</td>\n",
              "      <td>2.145931</td>\n",
              "      <td>-0.170788</td>\n",
              "      <td>1.0</td>\n",
              "    </tr>\n",
              "    <tr>\n",
              "      <th>11</th>\n",
              "      <td>BFA</td>\n",
              "      <td>0.000000</td>\n",
              "      <td>1.0</td>\n",
              "      <td>4.454545</td>\n",
              "      <td>6.845880</td>\n",
              "      <td>3.0</td>\n",
              "      <td>1.0</td>\n",
              "      <td>0.0</td>\n",
              "      <td>1.0</td>\n",
              "      <td>280.000000</td>\n",
              "      <td>5.634789</td>\n",
              "      <td>-3.540459</td>\n",
              "      <td>1.0</td>\n",
              "    </tr>\n",
              "    <tr>\n",
              "      <th>12</th>\n",
              "      <td>BGD</td>\n",
              "      <td>0.000000</td>\n",
              "      <td>1.0</td>\n",
              "      <td>5.136364</td>\n",
              "      <td>6.877296</td>\n",
              "      <td>7.0</td>\n",
              "      <td>2.0</td>\n",
              "      <td>0.0</td>\n",
              "      <td>1.0</td>\n",
              "      <td>71.410004</td>\n",
              "      <td>4.268438</td>\n",
              "      <td>-2.063568</td>\n",
              "      <td>1.0</td>\n",
              "    </tr>\n",
              "    <tr>\n",
              "      <th>...</th>\n",
              "      <td>...</td>\n",
              "      <td>...</td>\n",
              "      <td>...</td>\n",
              "      <td>...</td>\n",
              "      <td>...</td>\n",
              "      <td>...</td>\n",
              "      <td>...</td>\n",
              "      <td>...</td>\n",
              "      <td>...</td>\n",
              "      <td>...</td>\n",
              "      <td>...</td>\n",
              "      <td>...</td>\n",
              "      <td>...</td>\n",
              "    </tr>\n",
              "    <tr>\n",
              "      <th>153</th>\n",
              "      <td>USA</td>\n",
              "      <td>87.500000</td>\n",
              "      <td>1.0</td>\n",
              "      <td>10.000000</td>\n",
              "      <td>10.215740</td>\n",
              "      <td>7.0</td>\n",
              "      <td>7.0</td>\n",
              "      <td>10.0</td>\n",
              "      <td>7.0</td>\n",
              "      <td>15.000000</td>\n",
              "      <td>2.708050</td>\n",
              "      <td>0.000000</td>\n",
              "      <td>1.0</td>\n",
              "    </tr>\n",
              "    <tr>\n",
              "      <th>155</th>\n",
              "      <td>VEN</td>\n",
              "      <td>20.000000</td>\n",
              "      <td>1.0</td>\n",
              "      <td>7.136364</td>\n",
              "      <td>9.071078</td>\n",
              "      <td>1.0</td>\n",
              "      <td>3.0</td>\n",
              "      <td>1.0</td>\n",
              "      <td>3.0</td>\n",
              "      <td>78.099998</td>\n",
              "      <td>4.357990</td>\n",
              "      <td>-0.703197</td>\n",
              "      <td>1.0</td>\n",
              "    </tr>\n",
              "    <tr>\n",
              "      <th>156</th>\n",
              "      <td>VNM</td>\n",
              "      <td>0.000000</td>\n",
              "      <td>1.0</td>\n",
              "      <td>6.409091</td>\n",
              "      <td>7.279319</td>\n",
              "      <td>1.0</td>\n",
              "      <td>3.0</td>\n",
              "      <td>0.0</td>\n",
              "      <td>1.0</td>\n",
              "      <td>140.000000</td>\n",
              "      <td>4.941642</td>\n",
              "      <td>NaN</td>\n",
              "      <td>1.0</td>\n",
              "    </tr>\n",
              "    <tr>\n",
              "      <th>159</th>\n",
              "      <td>ZAF</td>\n",
              "      <td>22.000000</td>\n",
              "      <td>1.0</td>\n",
              "      <td>6.863636</td>\n",
              "      <td>8.885994</td>\n",
              "      <td>3.0</td>\n",
              "      <td>7.0</td>\n",
              "      <td>3.0</td>\n",
              "      <td>3.0</td>\n",
              "      <td>15.500000</td>\n",
              "      <td>2.740840</td>\n",
              "      <td>-1.386294</td>\n",
              "      <td>1.0</td>\n",
              "    </tr>\n",
              "    <tr>\n",
              "      <th>160</th>\n",
              "      <td>ZAR</td>\n",
              "      <td>8.000000</td>\n",
              "      <td>1.0</td>\n",
              "      <td>3.500000</td>\n",
              "      <td>6.866933</td>\n",
              "      <td>1.0</td>\n",
              "      <td>1.0</td>\n",
              "      <td>0.0</td>\n",
              "      <td>1.0</td>\n",
              "      <td>240.000000</td>\n",
              "      <td>5.480639</td>\n",
              "      <td>-3.411248</td>\n",
              "      <td>1.0</td>\n",
              "    </tr>\n",
              "  </tbody>\n",
              "</table>\n",
              "<p>64 rows × 13 columns</p>\n",
              "</div>"
            ],
            "text/plain": [
              "    shortnam   euro1900  excolony     avexpr   logpgp95  cons1  cons90  \\\n",
              "1        AGO   8.000000       1.0   5.363636   7.770645    3.0     3.0   \n",
              "3        ARG  60.000004       1.0   6.386364   9.133459    1.0     6.0   \n",
              "5        AUS  98.000000       1.0   9.318182   9.897972    7.0     7.0   \n",
              "11       BFA   0.000000       1.0   4.454545   6.845880    3.0     1.0   \n",
              "12       BGD   0.000000       1.0   5.136364   6.877296    7.0     2.0   \n",
              "..       ...        ...       ...        ...        ...    ...     ...   \n",
              "153      USA  87.500000       1.0  10.000000  10.215740    7.0     7.0   \n",
              "155      VEN  20.000000       1.0   7.136364   9.071078    1.0     3.0   \n",
              "156      VNM   0.000000       1.0   6.409091   7.279319    1.0     3.0   \n",
              "159      ZAF  22.000000       1.0   6.863636   8.885994    3.0     7.0   \n",
              "160      ZAR   8.000000       1.0   3.500000   6.866933    1.0     1.0   \n",
              "\n",
              "     democ00a  cons00a    extmort4    logem4  loghjypl  baseco  \n",
              "1         0.0      1.0  280.000000  5.634789 -3.411248     1.0  \n",
              "3         3.0      3.0   68.900002  4.232656 -0.872274     1.0  \n",
              "5        10.0      7.0    8.550000  2.145931 -0.170788     1.0  \n",
              "11        0.0      1.0  280.000000  5.634789 -3.540459     1.0  \n",
              "12        0.0      1.0   71.410004  4.268438 -2.063568     1.0  \n",
              "..        ...      ...         ...       ...       ...     ...  \n",
              "153      10.0      7.0   15.000000  2.708050  0.000000     1.0  \n",
              "155       1.0      3.0   78.099998  4.357990 -0.703197     1.0  \n",
              "156       0.0      1.0  140.000000  4.941642       NaN     1.0  \n",
              "159       3.0      3.0   15.500000  2.740840 -1.386294     1.0  \n",
              "160       0.0      1.0  240.000000  5.480639 -3.411248     1.0  \n",
              "\n",
              "[64 rows x 13 columns]"
            ]
          },
          "execution_count": 127,
          "metadata": {},
          "output_type": "execute_result"
        }
      ],
      "source": [
        "dados_limpos = dados_limpos[dados_limpos['baseco'] == 1]\n",
        "dados_limpos"
      ]
    },
    {
      "cell_type": "markdown",
      "metadata": {
        "id": "F7DvV-Zpeb-l"
      },
      "source": [
        "Plotando"
      ]
    },
    {
      "cell_type": "code",
      "execution_count": null,
      "metadata": {
        "colab": {
          "base_uri": "https://localhost:8080/"
        },
        "id": "GlkebocGedwX",
        "outputId": "0192cff3-fe9a-41e3-b518-af2dc28f73d6"
      },
      "outputs": [
        {
          "data": {
            "text/plain": [
              "1      AGO\n",
              "3      ARG\n",
              "5      AUS\n",
              "11     BFA\n",
              "12     BGD\n",
              "      ... \n",
              "153    USA\n",
              "155    VEN\n",
              "156    VNM\n",
              "159    ZAF\n",
              "160    ZAR\n",
              "Name: shortnam, Length: 64, dtype: object"
            ]
          },
          "execution_count": 128,
          "metadata": {},
          "output_type": "execute_result"
        }
      ],
      "source": [
        "# Reservando os labels dos países\n",
        "paises = dados_limpos['shortnam']\n",
        "paises"
      ]
    },
    {
      "cell_type": "code",
      "execution_count": null,
      "metadata": {
        "id": "Ca-22x_OewXC"
      },
      "outputs": [],
      "source": [
        "# Separando PPC 1995 e Taxa de Mortalidade de Colonizadores\n",
        "x = dados_limpos['avexpr']\n",
        "y = dados_limpos['logpgp95']"
      ]
    },
    {
      "cell_type": "code",
      "execution_count": null,
      "metadata": {
        "colab": {
          "base_uri": "https://localhost:8080/",
          "height": 565
        },
        "id": "eAK43JPqfISQ",
        "outputId": "92b0813e-a321-4d3b-fb19-0af55edc2848"
      },
      "outputs": [
        {
          "data": {
            "image/png": "[encoded data removed]",
            "text/plain": [
              "<Figure size 1200x600 with 1 Axes>"
            ]
          },
          "metadata": {},
          "output_type": "display_data"
        }
      ],
      "source": [
        "# Substituindo os pontos pelas labels dos países\n",
        "fig, ax = plt.subplots(figsize = (12,6))\n",
        "ax.scatter(x, y, marker = '')\n",
        "\n",
        "for i, pais in enumerate(paises):\n",
        "    ax.annotate(pais, (x.iloc[i], y.iloc[i]), color='blue')\n",
        "\n",
        "# Linha de tendência\n",
        "ax.plot(np.unique(x),\n",
        "        np.poly1d(np.polyfit(x, y, 1))(np.unique(x)),\n",
        "        color='black')\n",
        "\n",
        "# Configurações do gráfico\n",
        "ax.set_xlim([3.3, 10.5])\n",
        "ax.set_ylim([4, 10.5])\n",
        "ax.set_xlabel('Média de proteção contra o risco de expropriação 1985-95')\n",
        "ax.set_ylabel('PIB per capita de 1995')\n",
        "ax.set_title('Modelo OLS bivariado: Risco de Expropriação x Rendimento')\n",
        "\n",
        "# Anotação do autor no canto inferior direito\n",
        "plt.annotate('Autor: Jonatas A. Liberato',\n",
        "             xy=(1.0, 0.0002),\n",
        "             xycoords='axes fraction',\n",
        "             ha='right',\n",
        "             va='bottom')\n",
        "\n",
        "# Exibir o gráfico\n",
        "plt.show()"
      ]
    },
    {
      "cell_type": "markdown",
      "metadata": {
        "id": "sYRom4UQh3ju"
      },
      "source": [
        "### Estimativas com Modelo OLS"
      ]
    },
    {
      "cell_type": "markdown",
      "metadata": {},
      "source": [
        "Aqui nós usamos o modelo OLS (Ordinary Least Squares), que é uma técnica usada para estimar os parâmetros de uma regressão linear e nesse caso, para examinar a relação entre a qualidade institucional (medida pelo índice de proteção contra expropriação) e o desempenho econômico (medido pelo logaritmo do PIB per capita em 1995)."
      ]
    },
    {
      "cell_type": "markdown",
      "metadata": {},
      "source": [
        "Criando o intercepto"
      ]
    },
    {
      "cell_type": "markdown",
      "metadata": {
        "id": "jrqGQjJlh6vg"
      },
      "source": [
        "É necessária a criação de uma constante (ou intercepto) para ajustar adequadamente a linha de regressão aos dados, ela permite que o modelo ajuste o nível médio da variável dependente (no caso, o logaritmo do PIB per capita) quando todas as variáveis explicativas (como a proteção contra expropriação) são iguais a zero.\n",
        "\n",
        "Sem essa constante, o modelo seria forçado a passar pela origem (ponto onde todas as variáveis explicativas são zero), o que raramente é apropriado para dados econômicos e pode levar a um ajuste inadequado."
      ]
    },
    {
      "cell_type": "code",
      "execution_count": null,
      "metadata": {
        "colab": {
          "base_uri": "https://localhost:8080/",
          "height": 424
        },
        "id": "-rxfJYYufZST",
        "outputId": "29b637d0-1450-4aa4-9f28-6f8c2d3b1295"
      },
      "outputs": [
        {
          "data": {
            "text/html": [
              "<div>\n",
              "<style scoped>\n",
              "    .dataframe tbody tr th:only-of-type {\n",
              "        vertical-align: middle;\n",
              "    }\n",
              "\n",
              "    .dataframe tbody tr th {\n",
              "        vertical-align: top;\n",
              "    }\n",
              "\n",
              "    .dataframe thead th {\n",
              "        text-align: right;\n",
              "    }\n",
              "</style>\n",
              "<table border=\"1\" class=\"dataframe\">\n",
              "  <thead>\n",
              "    <tr style=\"text-align: right;\">\n",
              "      <th></th>\n",
              "      <th>shortnam</th>\n",
              "      <th>euro1900</th>\n",
              "      <th>excolony</th>\n",
              "      <th>avexpr</th>\n",
              "      <th>logpgp95</th>\n",
              "      <th>cons1</th>\n",
              "      <th>cons90</th>\n",
              "      <th>democ00a</th>\n",
              "      <th>cons00a</th>\n",
              "      <th>extmort4</th>\n",
              "      <th>logem4</th>\n",
              "      <th>loghjypl</th>\n",
              "      <th>baseco</th>\n",
              "      <th>ols</th>\n",
              "    </tr>\n",
              "  </thead>\n",
              "  <tbody>\n",
              "    <tr>\n",
              "      <th>1</th>\n",
              "      <td>AGO</td>\n",
              "      <td>8.000000</td>\n",
              "      <td>1.0</td>\n",
              "      <td>5.363636</td>\n",
              "      <td>7.770645</td>\n",
              "      <td>3.0</td>\n",
              "      <td>3.0</td>\n",
              "      <td>0.0</td>\n",
              "      <td>1.0</td>\n",
              "      <td>280.000000</td>\n",
              "      <td>5.634789</td>\n",
              "      <td>-3.411248</td>\n",
              "      <td>1.0</td>\n",
              "      <td>1</td>\n",
              "    </tr>\n",
              "    <tr>\n",
              "      <th>3</th>\n",
              "      <td>ARG</td>\n",
              "      <td>60.000004</td>\n",
              "      <td>1.0</td>\n",
              "      <td>6.386364</td>\n",
              "      <td>9.133459</td>\n",
              "      <td>1.0</td>\n",
              "      <td>6.0</td>\n",
              "      <td>3.0</td>\n",
              "      <td>3.0</td>\n",
              "      <td>68.900002</td>\n",
              "      <td>4.232656</td>\n",
              "      <td>-0.872274</td>\n",
              "      <td>1.0</td>\n",
              "      <td>1</td>\n",
              "    </tr>\n",
              "    <tr>\n",
              "      <th>5</th>\n",
              "      <td>AUS</td>\n",
              "      <td>98.000000</td>\n",
              "      <td>1.0</td>\n",
              "      <td>9.318182</td>\n",
              "      <td>9.897972</td>\n",
              "      <td>7.0</td>\n",
              "      <td>7.0</td>\n",
              "      <td>10.0</td>\n",
              "      <td>7.0</td>\n",
              "      <td>8.550000</td>\n",
              "      <td>2.145931</td>\n",
              "      <td>-0.170788</td>\n",
              "      <td>1.0</td>\n",
              "      <td>1</td>\n",
              "    </tr>\n",
              "    <tr>\n",
              "      <th>11</th>\n",
              "      <td>BFA</td>\n",
              "      <td>0.000000</td>\n",
              "      <td>1.0</td>\n",
              "      <td>4.454545</td>\n",
              "      <td>6.845880</td>\n",
              "      <td>3.0</td>\n",
              "      <td>1.0</td>\n",
              "      <td>0.0</td>\n",
              "      <td>1.0</td>\n",
              "      <td>280.000000</td>\n",
              "      <td>5.634789</td>\n",
              "      <td>-3.540459</td>\n",
              "      <td>1.0</td>\n",
              "      <td>1</td>\n",
              "    </tr>\n",
              "    <tr>\n",
              "      <th>12</th>\n",
              "      <td>BGD</td>\n",
              "      <td>0.000000</td>\n",
              "      <td>1.0</td>\n",
              "      <td>5.136364</td>\n",
              "      <td>6.877296</td>\n",
              "      <td>7.0</td>\n",
              "      <td>2.0</td>\n",
              "      <td>0.0</td>\n",
              "      <td>1.0</td>\n",
              "      <td>71.410004</td>\n",
              "      <td>4.268438</td>\n",
              "      <td>-2.063568</td>\n",
              "      <td>1.0</td>\n",
              "      <td>1</td>\n",
              "    </tr>\n",
              "    <tr>\n",
              "      <th>...</th>\n",
              "      <td>...</td>\n",
              "      <td>...</td>\n",
              "      <td>...</td>\n",
              "      <td>...</td>\n",
              "      <td>...</td>\n",
              "      <td>...</td>\n",
              "      <td>...</td>\n",
              "      <td>...</td>\n",
              "      <td>...</td>\n",
              "      <td>...</td>\n",
              "      <td>...</td>\n",
              "      <td>...</td>\n",
              "      <td>...</td>\n",
              "      <td>...</td>\n",
              "    </tr>\n",
              "    <tr>\n",
              "      <th>153</th>\n",
              "      <td>USA</td>\n",
              "      <td>87.500000</td>\n",
              "      <td>1.0</td>\n",
              "      <td>10.000000</td>\n",
              "      <td>10.215740</td>\n",
              "      <td>7.0</td>\n",
              "      <td>7.0</td>\n",
              "      <td>10.0</td>\n",
              "      <td>7.0</td>\n",
              "      <td>15.000000</td>\n",
              "      <td>2.708050</td>\n",
              "      <td>0.000000</td>\n",
              "      <td>1.0</td>\n",
              "      <td>1</td>\n",
              "    </tr>\n",
              "    <tr>\n",
              "      <th>155</th>\n",
              "      <td>VEN</td>\n",
              "      <td>20.000000</td>\n",
              "      <td>1.0</td>\n",
              "      <td>7.136364</td>\n",
              "      <td>9.071078</td>\n",
              "      <td>1.0</td>\n",
              "      <td>3.0</td>\n",
              "      <td>1.0</td>\n",
              "      <td>3.0</td>\n",
              "      <td>78.099998</td>\n",
              "      <td>4.357990</td>\n",
              "      <td>-0.703197</td>\n",
              "      <td>1.0</td>\n",
              "      <td>1</td>\n",
              "    </tr>\n",
              "    <tr>\n",
              "      <th>156</th>\n",
              "      <td>VNM</td>\n",
              "      <td>0.000000</td>\n",
              "      <td>1.0</td>\n",
              "      <td>6.409091</td>\n",
              "      <td>7.279319</td>\n",
              "      <td>1.0</td>\n",
              "      <td>3.0</td>\n",
              "      <td>0.0</td>\n",
              "      <td>1.0</td>\n",
              "      <td>140.000000</td>\n",
              "      <td>4.941642</td>\n",
              "      <td>NaN</td>\n",
              "      <td>1.0</td>\n",
              "      <td>1</td>\n",
              "    </tr>\n",
              "    <tr>\n",
              "      <th>159</th>\n",
              "      <td>ZAF</td>\n",
              "      <td>22.000000</td>\n",
              "      <td>1.0</td>\n",
              "      <td>6.863636</td>\n",
              "      <td>8.885994</td>\n",
              "      <td>3.0</td>\n",
              "      <td>7.0</td>\n",
              "      <td>3.0</td>\n",
              "      <td>3.0</td>\n",
              "      <td>15.500000</td>\n",
              "      <td>2.740840</td>\n",
              "      <td>-1.386294</td>\n",
              "      <td>1.0</td>\n",
              "      <td>1</td>\n",
              "    </tr>\n",
              "    <tr>\n",
              "      <th>160</th>\n",
              "      <td>ZAR</td>\n",
              "      <td>8.000000</td>\n",
              "      <td>1.0</td>\n",
              "      <td>3.500000</td>\n",
              "      <td>6.866933</td>\n",
              "      <td>1.0</td>\n",
              "      <td>1.0</td>\n",
              "      <td>0.0</td>\n",
              "      <td>1.0</td>\n",
              "      <td>240.000000</td>\n",
              "      <td>5.480639</td>\n",
              "      <td>-3.411248</td>\n",
              "      <td>1.0</td>\n",
              "      <td>1</td>\n",
              "    </tr>\n",
              "  </tbody>\n",
              "</table>\n",
              "<p>64 rows × 14 columns</p>\n",
              "</div>"
            ],
            "text/plain": [
              "    shortnam   euro1900  excolony     avexpr   logpgp95  cons1  cons90  \\\n",
              "1        AGO   8.000000       1.0   5.363636   7.770645    3.0     3.0   \n",
              "3        ARG  60.000004       1.0   6.386364   9.133459    1.0     6.0   \n",
              "5        AUS  98.000000       1.0   9.318182   9.897972    7.0     7.0   \n",
              "11       BFA   0.000000       1.0   4.454545   6.845880    3.0     1.0   \n",
              "12       BGD   0.000000       1.0   5.136364   6.877296    7.0     2.0   \n",
              "..       ...        ...       ...        ...        ...    ...     ...   \n",
              "153      USA  87.500000       1.0  10.000000  10.215740    7.0     7.0   \n",
              "155      VEN  20.000000       1.0   7.136364   9.071078    1.0     3.0   \n",
              "156      VNM   0.000000       1.0   6.409091   7.279319    1.0     3.0   \n",
              "159      ZAF  22.000000       1.0   6.863636   8.885994    3.0     7.0   \n",
              "160      ZAR   8.000000       1.0   3.500000   6.866933    1.0     1.0   \n",
              "\n",
              "     democ00a  cons00a    extmort4    logem4  loghjypl  baseco  ols  \n",
              "1         0.0      1.0  280.000000  5.634789 -3.411248     1.0    1  \n",
              "3         3.0      3.0   68.900002  4.232656 -0.872274     1.0    1  \n",
              "5        10.0      7.0    8.550000  2.145931 -0.170788     1.0    1  \n",
              "11        0.0      1.0  280.000000  5.634789 -3.540459     1.0    1  \n",
              "12        0.0      1.0   71.410004  4.268438 -2.063568     1.0    1  \n",
              "..        ...      ...         ...       ...       ...     ...  ...  \n",
              "153      10.0      7.0   15.000000  2.708050  0.000000     1.0    1  \n",
              "155       1.0      3.0   78.099998  4.357990 -0.703197     1.0    1  \n",
              "156       0.0      1.0  140.000000  4.941642       NaN     1.0    1  \n",
              "159       3.0      3.0   15.500000  2.740840 -1.386294     1.0    1  \n",
              "160       0.0      1.0  240.000000  5.480639 -3.411248     1.0    1  \n",
              "\n",
              "[64 rows x 14 columns]"
            ]
          },
          "execution_count": 131,
          "metadata": {},
          "output_type": "execute_result"
        }
      ],
      "source": [
        "dados_limpos['ols'] = 1\n",
        "dados_limpos"
      ]
    },
    {
      "cell_type": "markdown",
      "metadata": {
        "id": "KHhSccceipMh"
      },
      "source": [
        "### Constuindo o o modelo OLS"
      ]
    },
    {
      "cell_type": "code",
      "execution_count": null,
      "metadata": {
        "colab": {
          "base_uri": "https://localhost:8080/"
        },
        "id": "wJdgBglciDtB",
        "outputId": "4abff6a6-641a-42de-da43-23a287094751"
      },
      "outputs": [
        {
          "name": "stdout",
          "output_type": "stream",
          "text": [
            "                            OLS Regression Results                            \n",
            "==============================================================================\n",
            "Dep. Variable:               logpgp95   R-squared:                       0.540\n",
            "Model:                            OLS   Adj. R-squared:                  0.533\n",
            "Method:                 Least Squares   F-statistic:                     72.82\n",
            "Date:                Tue, 28 May 2024   Prob (F-statistic):           4.72e-12\n",
            "Time:                        21:52:52   Log-Likelihood:                -68.168\n",
            "No. Observations:                  64   AIC:                             140.3\n",
            "Df Residuals:                      62   BIC:                             144.7\n",
            "Df Model:                           1                                         \n",
            "Covariance Type:            nonrobust                                         \n",
            "==============================================================================\n",
            "                 coef    std err          t      P>|t|      [0.025      0.975]\n",
            "------------------------------------------------------------------------------\n",
            "ols            4.6604      0.409     11.408      0.000       3.844       5.477\n",
            "avexpr         0.5221      0.061      8.533      0.000       0.400       0.644\n",
            "==============================================================================\n",
            "Omnibus:                        7.098   Durbin-Watson:                   2.064\n",
            "Prob(Omnibus):                  0.029   Jarque-Bera (JB):                6.657\n",
            "Skew:                          -0.781   Prob(JB):                       0.0358\n",
            "Kurtosis:                       3.234   Cond. No.                         31.2\n",
            "==============================================================================\n",
            "\n",
            "Notes:\n",
            "[1] Standard Errors assume that the covariance matrix of the errors is correctly specified.\n"
          ]
        }
      ],
      "source": [
        "modelo_ols = sm.OLS(endog = dados_limpos['logpgp95'], exog = dados_limpos[['ols', 'avexpr']], missing = 'drop')\n",
        "res = modelo_ols.fit()\n",
        "print(res.summary())"
      ]
    },
    {
      "cell_type": "markdown",
      "metadata": {
        "id": "18et6-aKjsDC"
      },
      "source": [
        "A conclusão que temos é que o modelo de regressão OLS mostra uma relação positiva e estatisticamente significativa entre a proteção contra expropriação e o logaritmo do PIB per capita em 1995. Com um R-quadrado de 0.540, o modelo explica uma porção considerável da variabilidade na variável dependente. \n",
        "\n",
        "A significância estatística dos coeficientes e das estatísticas de ajuste sugere que a proteção contra expropriação é um forte preditor do PIB per capita."
      ]
    },
    {
      "cell_type": "markdown",
      "metadata": {},
      "source": [
        "### Prevendo os níveis de Renda Per Capita"
      ]
    },
    {
      "cell_type": "markdown",
      "metadata": {},
      "source": [
        "Caso você nunca tenha ouvido falar sobre o assunto, o nível de renda per capita é uma medida que indica a média da renda de uma determinada área (como um país, estado ou região) dividida pelo número de pessoas que vivem nessa área. É frequentemente usado como uma medida básica do padrão de vida e desenvolvimento econômico de uma população.\n",
        "\n",
        "Quanto maior o nível de renda per capita, em geral, melhor são as condições econômicas e sociais, incluindo acesso a educação, saúde, moradia e outros serviços básicos. É uma medida importante para avaliar a qualidade de vida e o progresso econômico de uma sociedade."
      ]
    },
    {
      "cell_type": "code",
      "execution_count": null,
      "metadata": {},
      "outputs": [
        {
          "data": {
            "text/plain": [
              "6.515625"
            ]
          },
          "execution_count": 133,
          "metadata": {},
          "output_type": "execute_result"
        }
      ],
      "source": [
        "# Média da variávels avexpr\n",
        "mean_avexpr = np.mean(dados_limpos['avexpr'])\n",
        "mean_avexpr"
      ]
    },
    {
      "cell_type": "code",
      "execution_count": null,
      "metadata": {},
      "outputs": [
        {
          "data": {
            "text/plain": [
              "array([8.06223691])"
            ]
          },
          "execution_count": 134,
          "metadata": {},
          "output_type": "execute_result"
        }
      ],
      "source": [
        "# Predição\n",
        "res.predict(exog = [1, mean_avexpr])"
      ]
    },
    {
      "cell_type": "markdown",
      "metadata": {},
      "source": [
        "Previsão para cada valor"
      ]
    },
    {
      "cell_type": "code",
      "execution_count": null,
      "metadata": {},
      "outputs": [],
      "source": [
        "# Eliminamos os valores nulos\n",
        "dados_limpos_plot = dados_limpos.dropna( subset = ['logpgp95', 'avexpr'] )"
      ]
    },
    {
      "cell_type": "code",
      "execution_count": null,
      "metadata": {},
      "outputs": [
        {
          "data": {
            "image/png": "[encoded data removed]",
            "text/plain": [
              "<Figure size 640x480 with 1 Axes>"
            ]
          },
          "metadata": {},
          "output_type": "display_data"
        }
      ],
      "source": [
        "fix, ax = plt.subplots()\n",
        "ax.scatter( dados_limpos_plot['avexpr'], \n",
        "            res.predict(), \n",
        "            alpha = 0.5,\n",
        "            label = 'Predição' )\n",
        "\n",
        "# Graficamos los valores observados\n",
        "dados_limpos\n",
        "ax.scatter(dados_limpos_plot['avexpr'], \n",
        "           dados_limpos_plot['logpgp95'], \n",
        "           alpha = 0.5, \n",
        "           label = 'Valores Observados')\n",
        "\n",
        "ax.legend()\n",
        "ax.set_title('Valores Preditos - Usando OLS')\n",
        "ax.set_xlabel('avexpr')\n",
        "ax.set_ylabel('logpgp95')\n",
        "plt.show()"
      ]
    },
    {
      "cell_type": "markdown",
      "metadata": {},
      "source": [
        "### Modelo Multivariado"
      ]
    },
    {
      "cell_type": "markdown",
      "metadata": {},
      "source": [
        "Até agora, nosso modelo só considerou o Índice Médio de Proteção contra o Risco de Expropriação como variável explicativa. No entanto, certamente existem outras variáveis que influenciam o PIB per capita.\n",
        "\n",
        "Os cálculos dos parâmetros do nosso modelo podem estar sujeitos ao que é conhecido como \"viés de variável omitida\". Para resolver esse problema, vamos expandir nosso modelo para incluir outras variáveis.\n",
        "\n",
        "Um modelo multivariado é uma extensão de um modelo univariado, no qual há mais de uma variável independente (ou explicativa) sendo considerada para prever uma variável dependente. Em outras palavras, ele permite analisar como várias variáveis independentes influenciam simultaneamente uma variável dependente, nos permitindo entender como múltiplas variáveis independentes se relacionam com uma variável dependente, fornecendo uma análise mais abrangente e precisa das relações entre as variáveis em estudo.\n",
        "\n"
      ]
    },
    {
      "cell_type": "code",
      "execution_count": null,
      "metadata": {},
      "outputs": [
        {
          "data": {
            "text/html": [
              "<div>\n",
              "<style scoped>\n",
              "    .dataframe tbody tr th:only-of-type {\n",
              "        vertical-align: middle;\n",
              "    }\n",
              "\n",
              "    .dataframe tbody tr th {\n",
              "        vertical-align: top;\n",
              "    }\n",
              "\n",
              "    .dataframe thead th {\n",
              "        text-align: right;\n",
              "    }\n",
              "</style>\n",
              "<table border=\"1\" class=\"dataframe\">\n",
              "  <thead>\n",
              "    <tr style=\"text-align: right;\">\n",
              "      <th></th>\n",
              "      <th>shortnam</th>\n",
              "      <th>africa</th>\n",
              "      <th>lat_abst</th>\n",
              "      <th>avexpr</th>\n",
              "      <th>logpgp95</th>\n",
              "      <th>other</th>\n",
              "      <th>asia</th>\n",
              "      <th>loghjypl</th>\n",
              "      <th>baseco</th>\n",
              "      <th>const</th>\n",
              "    </tr>\n",
              "  </thead>\n",
              "  <tbody>\n",
              "    <tr>\n",
              "      <th>0</th>\n",
              "      <td>AFG</td>\n",
              "      <td>0.0</td>\n",
              "      <td>0.366667</td>\n",
              "      <td>NaN</td>\n",
              "      <td>NaN</td>\n",
              "      <td>0.0</td>\n",
              "      <td>1.0</td>\n",
              "      <td>NaN</td>\n",
              "      <td>NaN</td>\n",
              "      <td>1</td>\n",
              "    </tr>\n",
              "    <tr>\n",
              "      <th>1</th>\n",
              "      <td>AGO</td>\n",
              "      <td>1.0</td>\n",
              "      <td>0.136667</td>\n",
              "      <td>5.363636</td>\n",
              "      <td>7.770645</td>\n",
              "      <td>0.0</td>\n",
              "      <td>0.0</td>\n",
              "      <td>-3.411248</td>\n",
              "      <td>1.0</td>\n",
              "      <td>1</td>\n",
              "    </tr>\n",
              "    <tr>\n",
              "      <th>2</th>\n",
              "      <td>ARE</td>\n",
              "      <td>0.0</td>\n",
              "      <td>0.266667</td>\n",
              "      <td>7.181818</td>\n",
              "      <td>9.804219</td>\n",
              "      <td>0.0</td>\n",
              "      <td>1.0</td>\n",
              "      <td>NaN</td>\n",
              "      <td>NaN</td>\n",
              "      <td>1</td>\n",
              "    </tr>\n",
              "    <tr>\n",
              "      <th>3</th>\n",
              "      <td>ARG</td>\n",
              "      <td>0.0</td>\n",
              "      <td>0.377778</td>\n",
              "      <td>6.386364</td>\n",
              "      <td>9.133459</td>\n",
              "      <td>0.0</td>\n",
              "      <td>0.0</td>\n",
              "      <td>-0.872274</td>\n",
              "      <td>1.0</td>\n",
              "      <td>1</td>\n",
              "    </tr>\n",
              "    <tr>\n",
              "      <th>4</th>\n",
              "      <td>ARM</td>\n",
              "      <td>0.0</td>\n",
              "      <td>0.444444</td>\n",
              "      <td>NaN</td>\n",
              "      <td>7.682482</td>\n",
              "      <td>0.0</td>\n",
              "      <td>1.0</td>\n",
              "      <td>NaN</td>\n",
              "      <td>NaN</td>\n",
              "      <td>1</td>\n",
              "    </tr>\n",
              "    <tr>\n",
              "      <th>...</th>\n",
              "      <td>...</td>\n",
              "      <td>...</td>\n",
              "      <td>...</td>\n",
              "      <td>...</td>\n",
              "      <td>...</td>\n",
              "      <td>...</td>\n",
              "      <td>...</td>\n",
              "      <td>...</td>\n",
              "      <td>...</td>\n",
              "      <td>...</td>\n",
              "    </tr>\n",
              "    <tr>\n",
              "      <th>158</th>\n",
              "      <td>YUG</td>\n",
              "      <td>0.0</td>\n",
              "      <td>0.488889</td>\n",
              "      <td>6.318182</td>\n",
              "      <td>NaN</td>\n",
              "      <td>0.0</td>\n",
              "      <td>0.0</td>\n",
              "      <td>-1.203973</td>\n",
              "      <td>NaN</td>\n",
              "      <td>1</td>\n",
              "    </tr>\n",
              "    <tr>\n",
              "      <th>159</th>\n",
              "      <td>ZAF</td>\n",
              "      <td>1.0</td>\n",
              "      <td>0.322222</td>\n",
              "      <td>6.863636</td>\n",
              "      <td>8.885994</td>\n",
              "      <td>0.0</td>\n",
              "      <td>0.0</td>\n",
              "      <td>-1.386294</td>\n",
              "      <td>1.0</td>\n",
              "      <td>1</td>\n",
              "    </tr>\n",
              "    <tr>\n",
              "      <th>160</th>\n",
              "      <td>ZAR</td>\n",
              "      <td>1.0</td>\n",
              "      <td>0.000000</td>\n",
              "      <td>3.500000</td>\n",
              "      <td>6.866933</td>\n",
              "      <td>0.0</td>\n",
              "      <td>0.0</td>\n",
              "      <td>-3.411248</td>\n",
              "      <td>1.0</td>\n",
              "      <td>1</td>\n",
              "    </tr>\n",
              "    <tr>\n",
              "      <th>161</th>\n",
              "      <td>ZMB</td>\n",
              "      <td>1.0</td>\n",
              "      <td>0.166667</td>\n",
              "      <td>6.636364</td>\n",
              "      <td>6.813445</td>\n",
              "      <td>0.0</td>\n",
              "      <td>0.0</td>\n",
              "      <td>-2.975930</td>\n",
              "      <td>NaN</td>\n",
              "      <td>1</td>\n",
              "    </tr>\n",
              "    <tr>\n",
              "      <th>162</th>\n",
              "      <td>ZWE</td>\n",
              "      <td>1.0</td>\n",
              "      <td>0.222222</td>\n",
              "      <td>6.000000</td>\n",
              "      <td>7.696213</td>\n",
              "      <td>0.0</td>\n",
              "      <td>0.0</td>\n",
              "      <td>-2.733368</td>\n",
              "      <td>NaN</td>\n",
              "      <td>1</td>\n",
              "    </tr>\n",
              "  </tbody>\n",
              "</table>\n",
              "<p>163 rows × 10 columns</p>\n",
              "</div>"
            ],
            "text/plain": [
              "    shortnam  africa  lat_abst    avexpr  logpgp95  other  asia  loghjypl  \\\n",
              "0        AFG     0.0  0.366667       NaN       NaN    0.0   1.0       NaN   \n",
              "1        AGO     1.0  0.136667  5.363636  7.770645    0.0   0.0 -3.411248   \n",
              "2        ARE     0.0  0.266667  7.181818  9.804219    0.0   1.0       NaN   \n",
              "3        ARG     0.0  0.377778  6.386364  9.133459    0.0   0.0 -0.872274   \n",
              "4        ARM     0.0  0.444444       NaN  7.682482    0.0   1.0       NaN   \n",
              "..       ...     ...       ...       ...       ...    ...   ...       ...   \n",
              "158      YUG     0.0  0.488889  6.318182       NaN    0.0   0.0 -1.203973   \n",
              "159      ZAF     1.0  0.322222  6.863636  8.885994    0.0   0.0 -1.386294   \n",
              "160      ZAR     1.0  0.000000  3.500000  6.866933    0.0   0.0 -3.411248   \n",
              "161      ZMB     1.0  0.166667  6.636364  6.813445    0.0   0.0 -2.975930   \n",
              "162      ZWE     1.0  0.222222  6.000000  7.696213    0.0   0.0 -2.733368   \n",
              "\n",
              "     baseco  const  \n",
              "0       NaN      1  \n",
              "1       1.0      1  \n",
              "2       NaN      1  \n",
              "3       1.0      1  \n",
              "4       NaN      1  \n",
              "..      ...    ...  \n",
              "158     NaN      1  \n",
              "159     1.0      1  \n",
              "160     1.0      1  \n",
              "161     NaN      1  \n",
              "162     NaN      1  \n",
              "\n",
              "[163 rows x 10 columns]"
            ]
          },
          "execution_count": 137,
          "metadata": {},
          "output_type": "execute_result"
        }
      ],
      "source": [
        "# Subindo dados para o modelo multivariado\n",
        "df2 = pd.read_stata('maketable2.dta')\n",
        "\n",
        "# Criando outro intercepto\n",
        "df2['const'] = 1\n",
        "df2"
      ]
    },
    {
      "cell_type": "markdown",
      "metadata": {},
      "source": [
        "Vamos criar 3 variáveis para usar nos modelos com colunas que serão usadas nos modelos multivariados.\n",
        "Com esses modelos desejamos:\n",
        "\n",
        "- Reg1: Considera apenas o Índice de Proteção contra o Risco de Expropriação (avexpr) como variável explicativa. Este modelo básico estabelece a relação fundamental entre avexpr e o logaritmo do PIB per capita em 1995 (logpgp95).\n",
        "- Reg2: Adiciona a latitude (lat_abst) ao modelo para verificar se a inclusão de uma variável geográfica altera a relação entre avexpr e logpgp95.\n",
        "- Reg3: Introduz mais variáveis categóricas (asia, africa, other) para controlar os efeitos regionais e testar se a relação entre avexpr e logpgp95 permanece consistente.\n",
        "\n",
        "Os modelos são:\n",
        "\n",
        "- Reg1: Modelo básico com avexpr\n",
        "- Reg2: Modelo intermediário com avexpr e lat_abst\n",
        "- Reg3: Modelo completo com avexpr, lat_abst, asia, africa, e other"
      ]
    },
    {
      "cell_type": "code",
      "execution_count": null,
      "metadata": {},
      "outputs": [],
      "source": [
        "var1 = ['const', 'avexpr']\n",
        "var2 = ['const', 'avexpr', 'lat_abst']\n",
        "var3 = ['const', 'avexpr', 'lat_abst', 'asia', 'africa', 'other']"
      ]
    },
    {
      "cell_type": "code",
      "execution_count": null,
      "metadata": {},
      "outputs": [],
      "source": [
        "# Criando os 3 modelos\n",
        "reg1 = sm.OLS(df2['logpgp95'], df2[var1], missing = 'drop').fit()\n",
        "reg2 = sm.OLS(df2['logpgp95'], df2[var2], missing = 'drop').fit()\n",
        "reg3 = sm.OLS(df2['logpgp95'], df2[var3], missing = 'drop').fit()"
      ]
    },
    {
      "cell_type": "markdown",
      "metadata": {},
      "source": [
        "Imprimindo os 3 modelos em uma única tabela"
      ]
    },
    {
      "cell_type": "code",
      "execution_count": null,
      "metadata": {},
      "outputs": [
        {
          "name": "stdout",
          "output_type": "stream",
          "text": [
            "         Table 2 - OLS Regressão\n",
            "=========================================\n",
            "                 Model 1 Model 3 Model 4 \n",
            "-----------------------------------------\n",
            "const            4.63*** 4.87*** 5.85*** \n",
            "                 (0.30)  (0.33)  (0.34)  \n",
            "avexpr           0.53*** 0.46*** 0.39*** \n",
            "                 (0.04)  (0.06)  (0.05)  \n",
            "lat_abst                 0.87*   0.33    \n",
            "                         (0.49)  (0.45)  \n",
            "asia                             -0.15   \n",
            "                                 (0.15)  \n",
            "africa                           -0.92***\n",
            "                                 (0.17)  \n",
            "other                            0.30    \n",
            "                                 (0.37)  \n",
            "R-squared        0.61    0.62    0.72    \n",
            "R-squared Adj.   0.61    0.62    0.70    \n",
            "R-squared        0.61    0.62    0.72    \n",
            "No. observations 111     111     111     \n",
            "=========================================\n",
            "Standard errors in parentheses.\n",
            "* p<.1, ** p<.05, ***p<.01\n"
          ]
        }
      ],
      "source": [
        "# Definindo um dicionário para personalizar a exibição de informações\n",
        "info_dict = { \n",
        "    'R-squared' : lambda x: f\"{x.rsquared:.2f}\",        # Exibe o R-quadrado com duas casas decimais\n",
        "    'No. observations' : lambda x: f\"{int(x.nobs):d}\"   # Exibe o número de observações como um inteiro\n",
        "}\n",
        "\n",
        "# Criando uma tabela de resumo para os resultados dos três modelos de regressão\n",
        "results_table = summary_col(\n",
        "    results = [reg1, reg2, reg3],              # Lista de modelos de regressão\n",
        "    float_format = '%0.2f',                    # Formato de exibição dos números em ponto flutuante\n",
        "    stars = True,                              # Adiciona estrelas para significância estatística\n",
        "    model_names = [ 'Model 1', 'Model 3', 'Model 4'],  # Nomes personalizados para cada modelo\n",
        "    info_dict = info_dict,                     # Dicionário com informações personalizadas\n",
        "    regressor_order = [ 'const',               # Ordem dos regressores na tabela\n",
        "                        'avexpr',\n",
        "                        'lat_abst',\n",
        "                        'asia',\n",
        "                        'africa' ]\n",
        ")\n",
        "\n",
        "# Adiciona um título à tabela de resultados\n",
        "results_table.add_title('Table 2 - OLS Regressão')\n",
        "\n",
        "# Imprime a tabela de resultados\n",
        "print(results_table)"
      ]
    },
    {
      "cell_type": "markdown",
      "metadata": {},
      "source": [
        "Constatamos:\n",
        "\n",
        "1. Constante (const): O coeficiente constante é positivo e altamente significativo em todos os modelos, variando de 4.63 a 5.85\n",
        "\n",
        "2. avexpr: A variável \"avexpr\" (provavelmente um índice de proteção contra expropriação) tem um coeficiente positivo e significativo em todos os modelos, indicando que um aumento em \"avexpr\" está associado a um aumento no log do PIB per capita\n",
        "\n",
        "3. lat_abst: Incluída nos Modelos 3 e 4, é significativa ao nível de 10% no Modelo 3, mas perde a significância no Modelo 4\n",
        "\n",
        "4. asia: Incluída apenas no Modelo 4, seu coeficiente é negativo, mas não significativo\n",
        "\n",
        "5. africa: Incluída apenas no Modelo 4, tem um coeficiente negativo e altamente significativo, sugerindo que a localização na África está associada a um log do PIB per capita mais baixo\n",
        "\n",
        "6. other: Também no Modelo 4, seu coeficiente não é significativo\n",
        "\n",
        "7. valores de R-quadrado indicam que a inclusão de mais variáveis no Modelo 4 aumenta a proporção da variação explicada da variável dependente"
      ]
    },
    {
      "cell_type": "markdown",
      "metadata": {},
      "source": [
        "### Endogeneidade x Modelo de Mínimos Quadrados (2 etapas)"
      ]
    },
    {
      "cell_type": "markdown",
      "metadata": {},
      "source": [
        "Endogeneidade é um problema que pode surgir em modelos de regressão devido a erros de medição, autorregressão com autocorrelação dos erros, simultaneidade e variáveis omitidas. Vamos usar um modelo de Mínimos Quadrados Ordinários (OLS) em duas etapas para corrigir esse problema.\n",
        "\n",
        "Tá, mas com que queremos dizer com isso?\n",
        "\n",
        "Isso significa que a relação entre o Índice de Proteção Médio contra o Risco de Expropriação ('avexpr') e o Logaritmo do PIB per capita pode ir nos dois sentidos. Em outras palavras, não é apenas que um influencia o outro, mas também que há uma influência mútua entre eles. \n",
        "\n",
        "- Países mais ricos podem financiar ou preferir melhores instituições?\n",
        "- Variáveis que afetam a renda podem estar correlacionadas com diferenças institucionais?\n",
        "- A construção do índice pode estar enviesada, com analistas predispostos a ver melhores instituições em países mais ricos?"
      ]
    },
    {
      "cell_type": "markdown",
      "metadata": {},
      "source": [
        "Para resolver a endogeneidade, usamos um instrumento: a taxa de mortalidade dos primeiros colonizadores. Isso nos permite aplicar o Método de Mínimos Quadrados em Duas Etapas (2SLS):\n",
        "\n",
        "- Primeira Etapa\n",
        "\n",
        "Na primeira etapa, usamos a variável instrumental para prever a variável endógena (avexpr). A ideia é que a variável instrumental esteja correlacionada com a variável endógena, mas não com o erro do modelo.\n",
        "\n",
        "- Segunda Etapa\n",
        "\n",
        "Na segunda etapa, usamos a previsão da variável endógena da primeira etapa como um preditor no modelo final.\n",
        "\n",
        "Contexto e Método Generalizado dos Momentos (GMM)\n",
        "Podemos também usar o Método Generalizado dos Momentos (GMM), que é uma abordagem mais geral que incorpora instrumentos em um sistema de equações. Nesse método, usamos uma matriz definida positiva que ajuda a construir estimadores mais eficientes."
      ]
    },
    {
      "cell_type": "code",
      "execution_count": null,
      "metadata": {},
      "outputs": [
        {
          "data": {
            "text/plain": [
              "Index(['shortnam', 'euro1900', 'excolony', 'avexpr', 'logpgp95', 'cons1',\n",
              "       'cons90', 'democ00a', 'cons00a', 'extmort4', 'logem4', 'loghjypl',\n",
              "       'baseco'],\n",
              "      dtype='object')"
            ]
          },
          "execution_count": 141,
          "metadata": {},
          "output_type": "execute_result"
        }
      ],
      "source": [
        "df.columns"
      ]
    },
    {
      "cell_type": "code",
      "execution_count": null,
      "metadata": {},
      "outputs": [
        {
          "data": {
            "text/plain": [
              "shortnam     0\n",
              "euro1900     1\n",
              "excolony     1\n",
              "avexpr       0\n",
              "logpgp95     4\n",
              "cons1       10\n",
              "cons90      10\n",
              "democ00a    11\n",
              "cons00a      9\n",
              "extmort4     0\n",
              "logem4       0\n",
              "loghjypl     4\n",
              "baseco      10\n",
              "dtype: int64"
            ]
          },
          "execution_count": 142,
          "metadata": {},
          "output_type": "execute_result"
        }
      ],
      "source": [
        "# Criaremos outra cópia do nosso dataset, para excluir os valores nulos\n",
        "dados_limpos2 = df.copy()\n",
        "dados_limpos2 = dados_limpos2.dropna(subset = ['logem4', 'avexpr'])\n",
        "dados_limpos2.isna().sum()"
      ]
    },
    {
      "cell_type": "code",
      "execution_count": null,
      "metadata": {},
      "outputs": [
        {
          "data": {
            "text/plain": [
              "1      AGO\n",
              "3      ARG\n",
              "5      AUS\n",
              "11     BFA\n",
              "12     BGD\n",
              "      ... \n",
              "153    USA\n",
              "155    VEN\n",
              "156    VNM\n",
              "159    ZAF\n",
              "160    ZAR\n",
              "Name: shortnam, Length: 74, dtype: object"
            ]
          },
          "execution_count": 143,
          "metadata": {},
          "output_type": "execute_result"
        }
      ],
      "source": [
        "# Atribuindo os valores a variáveis\n",
        "x = dados_limpos2['logem4']\n",
        "y = dados_limpos2['avexpr']\n",
        "paises = dados_limpos2['shortnam']\n",
        "paises"
      ]
    },
    {
      "cell_type": "code",
      "execution_count": null,
      "metadata": {},
      "outputs": [
        {
          "data": {
            "image/png": "[encoded data removed]",
            "text/plain": [
              "<Figure size 640x480 with 1 Axes>"
            ]
          },
          "metadata": {},
          "output_type": "display_data"
        }
      ],
      "source": [
        "# Plotando\n",
        "fig, ax = plt.subplots()\n",
        "ax.scatter(x, y, marker = '')\n",
        "\n",
        "for i, pais in enumerate(paises):\n",
        "    ax.annotate(pais, (x.iloc[i], y.iloc[i]))\n",
        "\n",
        "# Linha de tendência\n",
        "ax.plot(\n",
        "    np.unique(x),\n",
        "    np.poly1d(np.polyfit(x, y, 1))(np.unique(x)),\n",
        "    color = 'darkblue'\n",
        ")\n",
        "\n",
        "ax.set_xlim([1.8,8.4])\n",
        "ax.set_ylim([3.3,10.4])\n",
        "ax.set_xlabel('Log de Mortalidade dos Colonizadores')\n",
        "ax.set_ylabel('Risco médio de expropriação (1985-95)')\n",
        "ax.set_title('Figura 3: Mortalidade de Colonizadores x Risco de Expropriação', size = 14)\n",
        "\n",
        "# Anotação do autor no canto inferior direito\n",
        "plt.annotate('Autor: Jonatas A. Liberato',\n",
        "             xy=(1.0, 0.0002),\n",
        "             xycoords='axes fraction',\n",
        "             ha='right',\n",
        "             va='bottom')\n",
        "\n",
        "# Exibir o gráfico\n",
        "plt.show()"
      ]
    },
    {
      "cell_type": "markdown",
      "metadata": {},
      "source": [
        "#### Primeira Etapa: Risco de Expropriação"
      ]
    },
    {
      "cell_type": "code",
      "execution_count": null,
      "metadata": {},
      "outputs": [
        {
          "data": {
            "text/html": [
              "<div>\n",
              "<style scoped>\n",
              "    .dataframe tbody tr th:only-of-type {\n",
              "        vertical-align: middle;\n",
              "    }\n",
              "\n",
              "    .dataframe tbody tr th {\n",
              "        vertical-align: top;\n",
              "    }\n",
              "\n",
              "    .dataframe thead th {\n",
              "        text-align: right;\n",
              "    }\n",
              "</style>\n",
              "<table border=\"1\" class=\"dataframe\">\n",
              "  <thead>\n",
              "    <tr style=\"text-align: right;\">\n",
              "      <th></th>\n",
              "      <th>shortnam</th>\n",
              "      <th>africa</th>\n",
              "      <th>lat_abst</th>\n",
              "      <th>rich4</th>\n",
              "      <th>avexpr</th>\n",
              "      <th>logpgp95</th>\n",
              "      <th>logem4</th>\n",
              "      <th>asia</th>\n",
              "      <th>loghjypl</th>\n",
              "      <th>baseco</th>\n",
              "    </tr>\n",
              "  </thead>\n",
              "  <tbody>\n",
              "    <tr>\n",
              "      <th>1</th>\n",
              "      <td>AGO</td>\n",
              "      <td>1.0</td>\n",
              "      <td>0.136667</td>\n",
              "      <td>0.0</td>\n",
              "      <td>5.363636</td>\n",
              "      <td>7.770645</td>\n",
              "      <td>5.634789</td>\n",
              "      <td>0.0</td>\n",
              "      <td>-3.411248</td>\n",
              "      <td>1.0</td>\n",
              "    </tr>\n",
              "    <tr>\n",
              "      <th>3</th>\n",
              "      <td>ARG</td>\n",
              "      <td>0.0</td>\n",
              "      <td>0.377778</td>\n",
              "      <td>0.0</td>\n",
              "      <td>6.386364</td>\n",
              "      <td>9.133459</td>\n",
              "      <td>4.232656</td>\n",
              "      <td>0.0</td>\n",
              "      <td>-0.872274</td>\n",
              "      <td>1.0</td>\n",
              "    </tr>\n",
              "    <tr>\n",
              "      <th>5</th>\n",
              "      <td>AUS</td>\n",
              "      <td>0.0</td>\n",
              "      <td>0.300000</td>\n",
              "      <td>1.0</td>\n",
              "      <td>9.318182</td>\n",
              "      <td>9.897972</td>\n",
              "      <td>2.145931</td>\n",
              "      <td>0.0</td>\n",
              "      <td>-0.170788</td>\n",
              "      <td>1.0</td>\n",
              "    </tr>\n",
              "    <tr>\n",
              "      <th>11</th>\n",
              "      <td>BFA</td>\n",
              "      <td>1.0</td>\n",
              "      <td>0.144444</td>\n",
              "      <td>0.0</td>\n",
              "      <td>4.454545</td>\n",
              "      <td>6.845880</td>\n",
              "      <td>5.634789</td>\n",
              "      <td>0.0</td>\n",
              "      <td>-3.540459</td>\n",
              "      <td>1.0</td>\n",
              "    </tr>\n",
              "    <tr>\n",
              "      <th>12</th>\n",
              "      <td>BGD</td>\n",
              "      <td>0.0</td>\n",
              "      <td>0.266667</td>\n",
              "      <td>0.0</td>\n",
              "      <td>5.136364</td>\n",
              "      <td>6.877296</td>\n",
              "      <td>4.268438</td>\n",
              "      <td>1.0</td>\n",
              "      <td>-2.063568</td>\n",
              "      <td>1.0</td>\n",
              "    </tr>\n",
              "  </tbody>\n",
              "</table>\n",
              "</div>"
            ],
            "text/plain": [
              "   shortnam  africa  lat_abst  rich4    avexpr  logpgp95    logem4  asia  \\\n",
              "1       AGO     1.0  0.136667    0.0  5.363636  7.770645  5.634789   0.0   \n",
              "3       ARG     0.0  0.377778    0.0  6.386364  9.133459  4.232656   0.0   \n",
              "5       AUS     0.0  0.300000    1.0  9.318182  9.897972  2.145931   0.0   \n",
              "11      BFA     1.0  0.144444    0.0  4.454545  6.845880  5.634789   0.0   \n",
              "12      BGD     0.0  0.266667    0.0  5.136364  6.877296  4.268438   1.0   \n",
              "\n",
              "    loghjypl  baseco  \n",
              "1  -3.411248     1.0  \n",
              "3  -0.872274     1.0  \n",
              "5  -0.170788     1.0  \n",
              "11 -3.540459     1.0  \n",
              "12 -2.063568     1.0  "
            ]
          },
          "execution_count": 145,
          "metadata": {},
          "output_type": "execute_result"
        }
      ],
      "source": [
        "df4 = pd.read_stata('maketable4.dta')\n",
        "df4 = df4[df4['baseco'] == 1]\n",
        "df4.head()"
      ]
    },
    {
      "cell_type": "code",
      "execution_count": null,
      "metadata": {},
      "outputs": [
        {
          "name": "stdout",
          "output_type": "stream",
          "text": [
            "                            OLS Regression Results                            \n",
            "==============================================================================\n",
            "Dep. Variable:                 avexpr   R-squared:                       0.270\n",
            "Model:                            OLS   Adj. R-squared:                  0.258\n",
            "Method:                 Least Squares   F-statistic:                     22.95\n",
            "Date:                Tue, 28 May 2024   Prob (F-statistic):           1.08e-05\n",
            "Time:                        21:52:53   Log-Likelihood:                -104.83\n",
            "No. Observations:                  64   AIC:                             213.7\n",
            "Df Residuals:                      62   BIC:                             218.0\n",
            "Df Model:                           1                                         \n",
            "Covariance Type:            nonrobust                                         \n",
            "==============================================================================\n",
            "                 coef    std err          t      P>|t|      [0.025      0.975]\n",
            "------------------------------------------------------------------------------\n",
            "const          9.3414      0.611     15.296      0.000       8.121      10.562\n",
            "logem4        -0.6068      0.127     -4.790      0.000      -0.860      -0.354\n",
            "==============================================================================\n",
            "Omnibus:                        0.035   Durbin-Watson:                   2.003\n",
            "Prob(Omnibus):                  0.983   Jarque-Bera (JB):                0.172\n",
            "Skew:                           0.045   Prob(JB):                        0.918\n",
            "Kurtosis:                       2.763   Cond. No.                         19.4\n",
            "==============================================================================\n",
            "\n",
            "Notes:\n",
            "[1] Standard Errors assume that the covariance matrix of the errors is correctly specified.\n"
          ]
        }
      ],
      "source": [
        "df4['const'] = 1\n",
        "\n",
        "# Regresión\n",
        "results_fs = sm.OLS(df4['avexpr'],\n",
        "                    df4[['const', 'logem4']],\n",
        "                    missing='drop').fit()\n",
        "print(results_fs.summary())"
      ]
    },
    {
      "cell_type": "markdown",
      "metadata": {},
      "source": [
        "Os resultados sugerem a presença de endogeneidade na relação entre o Índice de Proteção Médio contra o Risco de Expropriação ('avexpr') e o Logaritmo do PIB per capita. Isso implica que a influência entre essas variáveis pode ser bidirecional: não apenas uma influencia a outra, mas também há uma influência mútua.\n",
        "\n",
        "Para lidar com essa endogeneidade, aplicamos um modelo de Mínimos Quadrados em Duas Etapas (2SLS). Na primeira etapa, usamos a taxa de mortalidade dos primeiros colonizadores como variável instrumental para prever o Índice de Proteção contra o Risco de Expropriação. Na segunda etapa, usamos a previsão do Índice de Proteção da primeira etapa como um preditor no modelo final.\n",
        "\n",
        "Essa abordagem permite controlar a endogeneidade e fornecer estimativas mais confiáveis dos efeitos das instituições na renda per capita. Além disso, podemos considerar o Método Generalizado dos Momentos (GMM), uma técnica mais ampla que incorpora instrumentos em um sistema de equações, possibilitando estimadores mais eficientes através de uma matriz definida positiva."
      ]
    },
    {
      "cell_type": "markdown",
      "metadata": {},
      "source": [
        "### Segunda Etapa: Equiação de Interesse"
      ]
    },
    {
      "cell_type": "code",
      "execution_count": null,
      "metadata": {},
      "outputs": [
        {
          "data": {
            "text/html": [
              "<div>\n",
              "<style scoped>\n",
              "    .dataframe tbody tr th:only-of-type {\n",
              "        vertical-align: middle;\n",
              "    }\n",
              "\n",
              "    .dataframe tbody tr th {\n",
              "        vertical-align: top;\n",
              "    }\n",
              "\n",
              "    .dataframe thead th {\n",
              "        text-align: right;\n",
              "    }\n",
              "</style>\n",
              "<table border=\"1\" class=\"dataframe\">\n",
              "  <thead>\n",
              "    <tr style=\"text-align: right;\">\n",
              "      <th></th>\n",
              "      <th>shortnam</th>\n",
              "      <th>africa</th>\n",
              "      <th>lat_abst</th>\n",
              "      <th>rich4</th>\n",
              "      <th>avexpr</th>\n",
              "      <th>logpgp95</th>\n",
              "      <th>logem4</th>\n",
              "      <th>asia</th>\n",
              "      <th>loghjypl</th>\n",
              "      <th>baseco</th>\n",
              "      <th>const</th>\n",
              "      <th>predicted_avexpr</th>\n",
              "    </tr>\n",
              "  </thead>\n",
              "  <tbody>\n",
              "    <tr>\n",
              "      <th>1</th>\n",
              "      <td>AGO</td>\n",
              "      <td>1.0</td>\n",
              "      <td>0.136667</td>\n",
              "      <td>0.0</td>\n",
              "      <td>5.363636</td>\n",
              "      <td>7.770645</td>\n",
              "      <td>5.634789</td>\n",
              "      <td>0.0</td>\n",
              "      <td>-3.411248</td>\n",
              "      <td>1.0</td>\n",
              "      <td>1</td>\n",
              "      <td>5.922342</td>\n",
              "    </tr>\n",
              "    <tr>\n",
              "      <th>3</th>\n",
              "      <td>ARG</td>\n",
              "      <td>0.0</td>\n",
              "      <td>0.377778</td>\n",
              "      <td>0.0</td>\n",
              "      <td>6.386364</td>\n",
              "      <td>9.133459</td>\n",
              "      <td>4.232656</td>\n",
              "      <td>0.0</td>\n",
              "      <td>-0.872274</td>\n",
              "      <td>1.0</td>\n",
              "      <td>1</td>\n",
              "      <td>6.773127</td>\n",
              "    </tr>\n",
              "    <tr>\n",
              "      <th>5</th>\n",
              "      <td>AUS</td>\n",
              "      <td>0.0</td>\n",
              "      <td>0.300000</td>\n",
              "      <td>1.0</td>\n",
              "      <td>9.318182</td>\n",
              "      <td>9.897972</td>\n",
              "      <td>2.145931</td>\n",
              "      <td>0.0</td>\n",
              "      <td>-0.170788</td>\n",
              "      <td>1.0</td>\n",
              "      <td>1</td>\n",
              "      <td>8.039306</td>\n",
              "    </tr>\n",
              "    <tr>\n",
              "      <th>11</th>\n",
              "      <td>BFA</td>\n",
              "      <td>1.0</td>\n",
              "      <td>0.144444</td>\n",
              "      <td>0.0</td>\n",
              "      <td>4.454545</td>\n",
              "      <td>6.845880</td>\n",
              "      <td>5.634789</td>\n",
              "      <td>0.0</td>\n",
              "      <td>-3.540459</td>\n",
              "      <td>1.0</td>\n",
              "      <td>1</td>\n",
              "      <td>5.922342</td>\n",
              "    </tr>\n",
              "    <tr>\n",
              "      <th>12</th>\n",
              "      <td>BGD</td>\n",
              "      <td>0.0</td>\n",
              "      <td>0.266667</td>\n",
              "      <td>0.0</td>\n",
              "      <td>5.136364</td>\n",
              "      <td>6.877296</td>\n",
              "      <td>4.268438</td>\n",
              "      <td>1.0</td>\n",
              "      <td>-2.063568</td>\n",
              "      <td>1.0</td>\n",
              "      <td>1</td>\n",
              "      <td>6.751415</td>\n",
              "    </tr>\n",
              "  </tbody>\n",
              "</table>\n",
              "</div>"
            ],
            "text/plain": [
              "   shortnam  africa  lat_abst  rich4    avexpr  logpgp95    logem4  asia  \\\n",
              "1       AGO     1.0  0.136667    0.0  5.363636  7.770645  5.634789   0.0   \n",
              "3       ARG     0.0  0.377778    0.0  6.386364  9.133459  4.232656   0.0   \n",
              "5       AUS     0.0  0.300000    1.0  9.318182  9.897972  2.145931   0.0   \n",
              "11      BFA     1.0  0.144444    0.0  4.454545  6.845880  5.634789   0.0   \n",
              "12      BGD     0.0  0.266667    0.0  5.136364  6.877296  4.268438   1.0   \n",
              "\n",
              "    loghjypl  baseco  const  predicted_avexpr  \n",
              "1  -3.411248     1.0      1          5.922342  \n",
              "3  -0.872274     1.0      1          6.773127  \n",
              "5  -0.170788     1.0      1          8.039306  \n",
              "11 -3.540459     1.0      1          5.922342  \n",
              "12 -2.063568     1.0      1          6.751415  "
            ]
          },
          "execution_count": 147,
          "metadata": {},
          "output_type": "execute_result"
        }
      ],
      "source": [
        "# Usa-se o valor predito da Etapa 1\n",
        "df4['predicted_avexpr'] = results_fs.predict()\n",
        "df4.head()"
      ]
    },
    {
      "cell_type": "code",
      "execution_count": null,
      "metadata": {},
      "outputs": [
        {
          "name": "stdout",
          "output_type": "stream",
          "text": [
            "                            OLS Regression Results                            \n",
            "==============================================================================\n",
            "Dep. Variable:               logpgp95   R-squared:                       0.477\n",
            "Model:                            OLS   Adj. R-squared:                  0.469\n",
            "Method:                 Least Squares   F-statistic:                     56.60\n",
            "Date:                Tue, 28 May 2024   Prob (F-statistic):           2.66e-10\n",
            "Time:                        21:52:53   Log-Likelihood:                -72.268\n",
            "No. Observations:                  64   AIC:                             148.5\n",
            "Df Residuals:                      62   BIC:                             152.9\n",
            "Df Model:                           1                                         \n",
            "Covariance Type:            nonrobust                                         \n",
            "====================================================================================\n",
            "                       coef    std err          t      P>|t|      [0.025      0.975]\n",
            "------------------------------------------------------------------------------------\n",
            "const                1.9097      0.823      2.320      0.024       0.264       3.555\n",
            "predicted_avexpr     0.9443      0.126      7.523      0.000       0.693       1.195\n",
            "==============================================================================\n",
            "Omnibus:                       10.547   Durbin-Watson:                   2.137\n",
            "Prob(Omnibus):                  0.005   Jarque-Bera (JB):               11.010\n",
            "Skew:                          -0.790   Prob(JB):                      0.00407\n",
            "Kurtosis:                       4.277   Cond. No.                         58.1\n",
            "==============================================================================\n",
            "\n",
            "Notes:\n",
            "[1] Standard Errors assume that the covariance matrix of the errors is correctly specified.\n"
          ]
        }
      ],
      "source": [
        "results_ss = sm.OLS(\n",
        "    df4['logpgp95'],\n",
        "    df4[['const', 'predicted_avexpr']]).fit()\n",
        "print(results_ss.summary())"
      ]
    },
    {
      "cell_type": "markdown",
      "metadata": {},
      "source": [
        "Na segunda etapa da abordagem de Mínimos Quadrados em Duas Etapas (2SLS), realizamos uma regressão para investigar a relação entre o Logaritmo do PIB per capita ('logpgp95') e o Índice de Proteção Médio contra o Risco de Expropriação ('avexpr'), previsto a partir da primeira etapa do 2SLS.\n",
        "\n",
        "Os resultados mostram que a variável predita 'predicted_avexpr' tem um coeficiente estimado de 0.9443, com um erro padrão de 0.126. Isso indica que um aumento no Índice de Proteção Médio contra o Risco de Expropriação previsto está associado a um aumento de aproximadamente 0.9443 no Logaritmo do PIB per capita. Esse coeficiente é altamente significativo, com um valor p muito baixo (p < 0.001), indicando uma forte relação entre as duas variáveis.\n",
        "\n",
        "Além disso, o intercepto (const) é estimado em 1.9097, com um erro padrão de 0.823. Isso sugere que, com um Índice de Proteção Médio contra o Risco de Expropriação previsto de zero, o Logaritmo do PIB per capita ainda teria um valor médio de aproximadamente 1.9097.\n",
        "\n",
        "Os testes de diagnóstico, como o teste Omnibus e o teste de Jarque-Bera, sugerem que os resíduos da regressão não estão perfeitamente normalmente distribuídos, mas ainda assim, a análise geral do modelo parece razoável.\n",
        "\n",
        "Esses resultados fornecem insights sobre como o Índice de Proteção contra o Risco de Expropriação influencia o PIB per capita e ajudam a mitigar os efeitos da endogeneidade na análise da relação entre instituições e desenvolvimento econômico."
      ]
    },
    {
      "cell_type": "markdown",
      "metadata": {},
      "source": [
        "#### Sem ajustes"
      ]
    },
    {
      "cell_type": "code",
      "execution_count": null,
      "metadata": {},
      "outputs": [
        {
          "name": "stdout",
          "output_type": "stream",
          "text": [
            "                          IV-2SLS Estimation Summary                          \n",
            "==============================================================================\n",
            "Dep. Variable:               logpgp95   R-squared:                      0.1870\n",
            "Estimator:                    IV-2SLS   Adj. R-squared:                 0.1739\n",
            "No. Observations:                  64   F-statistic:                    28.754\n",
            "Date:                Tue, May 28 2024   P-value (F-stat)                0.0000\n",
            "Time:                        21:52:53   Distribution:                  chi2(1)\n",
            "Cov. Estimator:                robust                                         \n",
            "                                                                              \n",
            "                             Parameter Estimates                              \n",
            "==============================================================================\n",
            "            Parameter  Std. Err.     T-stat    P-value    Lower CI    Upper CI\n",
            "------------------------------------------------------------------------------\n",
            "const          1.9097     1.1740     1.6267     0.1038     -0.3912      4.2106\n",
            "avexpr         0.9443     0.1761     5.3623     0.0000      0.5991      1.2894\n",
            "==============================================================================\n",
            "\n",
            "Endogenous: avexpr\n",
            "Instruments: logem4\n",
            "Robust Covariance (Heteroskedastic)\n",
            "Debiased: False\n"
          ]
        }
      ],
      "source": [
        "# Sem ajustes de erro\n",
        "iv = IV2SLS( dependent = df4['logpgp95'],\n",
        "             exog = df4['const'],\n",
        "             endog = df4['avexpr'],\n",
        "             instruments = df4[['logem4']]).fit()\n",
        "print(iv.summary)"
      ]
    },
    {
      "cell_type": "markdown",
      "metadata": {},
      "source": [
        "Nesta análise de IV-2SLS (Mínimos Quadrados em Duas Etapas com Variáveis Instrumentais), examinamos a relação entre o Logaritmo do PIB per capita ('logpgp95') e o Índice de Proteção Médio contra o Risco de Expropriação ('avexpr'), utilizando a taxa de mortalidade dos primeiros colonizadores como instrumento.\n",
        "\n",
        "Os resultados mostram que o coeficiente estimado para 'avexpr' é de 0.9443, com um erro padrão de 0.1761. Isso indica que um aumento no Índice de Proteção Médio contra o Risco de Expropriação está associado a um aumento de aproximadamente 0.9443 no Logaritmo do PIB per capita. Este coeficiente é altamente significativo, com um valor p muito baixo (p < 0.001), sugerindo uma forte relação entre as duas variáveis.\n",
        "\n",
        "O intercepto (const) é estimado em 1.9097, com um erro padrão de 1.1740. Embora o intercepto não seja estatisticamente significativo (p = 0.1038), ele fornece uma estimativa do valor médio de Logaritmo do PIB per capita quando o Índice de Proteção contra o Risco de Expropriação é zero.\n",
        "\n",
        "Os resultados indicam uma relação positiva entre o Índice de Proteção contra o Risco de Expropriação e o Logaritmo do PIB per capita, controlando a endogeneidade por meio da utilização de instrumentos. O teste F para a relevância dos instrumentos (F-statistic) é significativo, indicando que os instrumentos têm poder preditivo sobre a variável endógena.\n",
        "\n",
        "Esses resultados fornecem suporte para a hipótese de que o desenvolvimento econômico está associado à qualidade das instituições, representadas pelo Índice de Proteção contra o Risco de Expropriação, e demonstram a importância de controlar a endogeneidade ao analisar essa relação."
      ]
    },
    {
      "cell_type": "markdown",
      "metadata": {},
      "source": [
        "### CONCLUSÃO:"
      ]
    },
    {
      "cell_type": "markdown",
      "metadata": {},
      "source": [
        "Este estudo confirmou a relação positiva entre a qualidade das instituições e o desempenho econômico. Usando o índice de proteção contra o risco de expropriação como medida das instituições e o logaritmo do PIB per capita como proxy para o desenvolvimento econômico, descobrimos que um aumento na qualidade das instituições está associado a um aumento significativo no PIB per capita.\n",
        "\n",
        "Além disso, ao usar a taxa de mortalidade dos colonizadores como instrumento para abordar a endogeneidade, confirmamos sua validade para avaliar a qualidade das instituições. Isso sugere que políticas voltadas para melhorar as instituições podem ser eficazes para promover o crescimento econômico.\n",
        "\n",
        "Embora este estudo forneça insights importantes, precisammos pontuar sobre suas limitações, como a dependência de dados históricos e a generalização para diferentes contextos contemporâneos. É fato que pesquisas posteriores podem ajudar a explorar outras variáveis instrumentais e contextos históricos, bem como investigar o impacto de diferentes aspectos institucionais no desenvolvimento econômico.\n",
        "\n",
        "Em resumo, com esse estudo tentei destacar a importância das instituições sólidas no fomento ao desenvolvimento econômico e enfatiza a necessidade de políticas voltadas para a melhoria institucional como uma estratégia para promover o bem-estar econômico."
      ]
    }
  ],
  "metadata": {
    "colab": {
      "provenance": []
    },
    "kernelspec": {
      "display_name": "Python 3",
      "language": "python",
      "name": "python3"
    },
    "language_info": {
      "codemirror_mode": {
        "name": "ipython",
        "version": 3
      },
      "file_extension": ".py",
      "mimetype": "text/x-python",
      "name": "python",
      "nbconvert_exporter": "python",
      "pygments_lexer": "ipython3",
      "version": "3.11.7"
    }
  },
  "nbformat": 4,
  "nbformat_minor": 0
}
